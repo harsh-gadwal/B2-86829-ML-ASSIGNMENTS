{
 "cells": [
  {
   "cell_type": "markdown",
   "id": "657504a2-9409-449a-8467-62d676e70816",
   "metadata": {},
   "source": [
    "The Salary_Train and Salary_Test datasets contains Information about Salary of different Person.\n",
    "The Dataset Description as follows\n",
    "age -- age of a person\n",
    "workclass    -- A work class is a grouping of work \n",
    "education    -- Education of an individuals    \n",
    "maritalstatus -- Marital status of an individulas    \n",
    "occupation     -- occupation of an individuals\n",
    "relationship -- ralationship of an individual    \n",
    "race --  Race of an Individual\n",
    "sex --  Gender of an Individual\n",
    "capitalgain --  profit received from the sale of an investment    \n",
    "capitalloss    -- A decrease in the value of a capital asset\n",
    "hoursperweek -- number of hours work per week    \n",
    "native -- Native of an individual\n",
    "Salary -- salary of an individual\n",
    "Prepare following models to predict Salary:\n",
    "1. Logistic Regression\n",
    "2. Naive Bayes\n",
    "3. KNN\n",
    "4. SVM\n",
    "5. Decision Tree\n",
    "6. Random Forest\n",
    "7. Adaboost\n",
    "\n",
    "Calculate different evaluation metrics and select best model from them.\n",
    "\n",
    "Notes:\n",
    "1. Do Proper EDA.\n",
    "2. Build model without dropping any columns.\n",
    "\n",
    "Dataset:\n",
    "Salary_train.csv\n",
    "Salary_test.csv"
   ]
  },
  {
   "cell_type": "markdown",
   "id": "3484bbd1-3fe3-40fe-a6b9-cfea7ff8ca4f",
   "metadata": {},
   "source": [
    "### pre-requisites"
   ]
  },
  {
   "cell_type": "code",
   "execution_count": 45,
   "id": "390cd612-190d-4686-b357-010380b0aa43",
   "metadata": {},
   "outputs": [],
   "source": [
    "import warnings\n",
    "warnings.filterwarnings(action=\"ignore\")"
   ]
  },
  {
   "cell_type": "markdown",
   "id": "0bbab929-55f8-4f51-b514-6c17c6367fff",
   "metadata": {},
   "source": [
    "### import required packages"
   ]
  },
  {
   "cell_type": "code",
   "execution_count": 46,
   "id": "cc449810-8baa-4b64-a07b-70404e2d1375",
   "metadata": {},
   "outputs": [],
   "source": [
    "import numpy as np\n",
    "import pandas as pd\n",
    "import matplotlib.pyplot as plt\n",
    "import seaborn as sns"
   ]
  },
  {
   "cell_type": "markdown",
   "id": "f69aa74c-cb72-4d49-bfbc-afdb2ffca0d7",
   "metadata": {},
   "source": [
    "### load the data"
   ]
  },
  {
   "cell_type": "code",
   "execution_count": 47,
   "id": "532df16f-e99a-42ff-8487-4844282579d3",
   "metadata": {},
   "outputs": [],
   "source": [
    "df = pd.read_csv('Salary_Train.csv')\n",
    "test_data = pd.read_csv('Salary_Test.csv')"
   ]
  },
  {
   "cell_type": "markdown",
   "id": "86f658cc-2412-4aaa-9ed5-4f70e80c86a1",
   "metadata": {},
   "source": [
    "### EDA"
   ]
  },
  {
   "cell_type": "code",
   "execution_count": 48,
   "id": "fed1b911-ede6-49ca-8518-506b27274cdb",
   "metadata": {},
   "outputs": [
    {
     "name": "stdout",
     "output_type": "stream",
     "text": [
      "<class 'pandas.core.frame.DataFrame'>\n",
      "RangeIndex: 30161 entries, 0 to 30160\n",
      "Data columns (total 14 columns):\n",
      " #   Column         Non-Null Count  Dtype \n",
      "---  ------         --------------  ----- \n",
      " 0   age            30161 non-null  int64 \n",
      " 1   workclass      30161 non-null  object\n",
      " 2   education      30161 non-null  object\n",
      " 3   educationno    30161 non-null  int64 \n",
      " 4   maritalstatus  30161 non-null  object\n",
      " 5   occupation     30161 non-null  object\n",
      " 6   relationship   30161 non-null  object\n",
      " 7   race           30161 non-null  object\n",
      " 8   sex            30161 non-null  object\n",
      " 9   capitalgain    30161 non-null  int64 \n",
      " 10  capitalloss    30161 non-null  int64 \n",
      " 11  hoursperweek   30161 non-null  int64 \n",
      " 12  native         30161 non-null  object\n",
      " 13  Salary         30161 non-null  object\n",
      "dtypes: int64(5), object(9)\n",
      "memory usage: 3.2+ MB\n"
     ]
    }
   ],
   "source": [
    "df.info()"
   ]
  },
  {
   "cell_type": "code",
   "execution_count": 49,
   "id": "595ad95c-d8a9-443e-8dbc-8b1686602fa3",
   "metadata": {},
   "outputs": [
    {
     "data": {
      "text/plain": [
       "age              0\n",
       "workclass        0\n",
       "education        0\n",
       "educationno      0\n",
       "maritalstatus    0\n",
       "occupation       0\n",
       "relationship     0\n",
       "race             0\n",
       "sex              0\n",
       "capitalgain      0\n",
       "capitalloss      0\n",
       "hoursperweek     0\n",
       "native           0\n",
       "Salary           0\n",
       "dtype: int64"
      ]
     },
     "execution_count": 49,
     "metadata": {},
     "output_type": "execute_result"
    }
   ],
   "source": [
    "df.isna().sum()"
   ]
  },
  {
   "cell_type": "code",
   "execution_count": 50,
   "id": "7600bf9f-9d15-4263-bff3-b20407a6aa37",
   "metadata": {},
   "outputs": [],
   "source": [
    "from sklearn.preprocessing import LabelEncoder \n",
    "\n",
    "l = ['workclass', 'education','maritalstatus',\n",
    "       'occupation', 'relationship', 'race', 'sex','native', 'Salary']\n",
    "for i in l:\n",
    "    df[i] = LabelEncoder().fit_transform(df[i])\n",
    "    test_data[i] = LabelEncoder().fit_transform(test_data[i])"
   ]
  },
  {
   "cell_type": "code",
   "execution_count": 51,
   "id": "dc73f97d-2bd9-4e83-9cfd-45d7d38b1897",
   "metadata": {},
   "outputs": [
    {
     "name": "stdout",
     "output_type": "stream",
     "text": [
      "<class 'pandas.core.frame.DataFrame'>\n",
      "RangeIndex: 30161 entries, 0 to 30160\n",
      "Data columns (total 14 columns):\n",
      " #   Column         Non-Null Count  Dtype\n",
      "---  ------         --------------  -----\n",
      " 0   age            30161 non-null  int64\n",
      " 1   workclass      30161 non-null  int32\n",
      " 2   education      30161 non-null  int32\n",
      " 3   educationno    30161 non-null  int64\n",
      " 4   maritalstatus  30161 non-null  int32\n",
      " 5   occupation     30161 non-null  int32\n",
      " 6   relationship   30161 non-null  int32\n",
      " 7   race           30161 non-null  int32\n",
      " 8   sex            30161 non-null  int32\n",
      " 9   capitalgain    30161 non-null  int64\n",
      " 10  capitalloss    30161 non-null  int64\n",
      " 11  hoursperweek   30161 non-null  int64\n",
      " 12  native         30161 non-null  int32\n",
      " 13  Salary         30161 non-null  int32\n",
      "dtypes: int32(9), int64(5)\n",
      "memory usage: 2.2 MB\n"
     ]
    }
   ],
   "source": [
    "df.info()"
   ]
  },
  {
   "cell_type": "markdown",
   "id": "ffbe017e-e6e1-4ea6-8e32-217370a59004",
   "metadata": {},
   "source": [
    "### pre-processing "
   ]
  },
  {
   "cell_type": "code",
   "execution_count": 52,
   "id": "652cd092-2a41-44b5-bcb1-4fcd378fd6e0",
   "metadata": {},
   "outputs": [],
   "source": [
    "x_train = df.drop('Salary',axis=1)\n",
    "y_train = df['Salary']\n",
    "x_test = test_data.drop('Salary',axis=1) \n",
    "y_test = test_data['Salary']"
   ]
  },
  {
   "cell_type": "markdown",
   "id": "912f106e-e870-4860-ba4a-b46e9f33bcdd",
   "metadata": {},
   "source": [
    "### train the models "
   ]
  },
  {
   "cell_type": "markdown",
   "id": "c688257a-6d64-4d4d-803c-d3e5b5232909",
   "metadata": {},
   "source": [
    "### Logistic Regression"
   ]
  },
  {
   "cell_type": "code",
   "execution_count": 53,
   "id": "574a5d08-9562-4e53-8d7c-984f188d8c0e",
   "metadata": {},
   "outputs": [],
   "source": [
    "from sklearn.linear_model import LogisticRegression\n",
    "\n",
    "def create_model_lr():\n",
    "    model = LogisticRegression()\n",
    "    model.fit(x_train,y_train)\n",
    "    return model"
   ]
  },
  {
   "cell_type": "markdown",
   "id": "12c7ced2-b001-4e54-a1d6-fb64c792fef8",
   "metadata": {},
   "source": [
    "### Naive Bayes "
   ]
  },
  {
   "cell_type": "code",
   "execution_count": 54,
   "id": "fe0cb643-f9c0-4c55-a711-fb6a6062c342",
   "metadata": {},
   "outputs": [],
   "source": [
    "from sklearn.naive_bayes import GaussianNB\n",
    "\n",
    "def create_model_nb():\n",
    "    model = GaussianNB()\n",
    "    model.fit(x_train,y_train)\n",
    "    return model"
   ]
  },
  {
   "cell_type": "markdown",
   "id": "3080aaae-45ae-4fbe-842f-d6a07d545478",
   "metadata": {},
   "source": [
    "### KNN "
   ]
  },
  {
   "cell_type": "code",
   "execution_count": 55,
   "id": "92ace03e-5553-4efc-bbe8-a5d25d9bb970",
   "metadata": {},
   "outputs": [],
   "source": [
    "from sklearn.neighbors import KNeighborsClassifier\n",
    "\n",
    "def create_model_knn():\n",
    "    model = KNeighborsClassifier(n_neighbors=5)\n",
    "    model.fit(x_train,y_train)\n",
    "    return model"
   ]
  },
  {
   "cell_type": "markdown",
   "id": "8a0d900f-05f4-4bf9-bbdc-c4bba6f49717",
   "metadata": {},
   "source": [
    "### SVM "
   ]
  },
  {
   "cell_type": "code",
   "execution_count": 56,
   "id": "d8e02127-fe32-4236-94ff-b30d5c550919",
   "metadata": {},
   "outputs": [],
   "source": [
    "from sklearn.svm import SVC\n",
    "\n",
    "def create_model_svm():\n",
    "    model = SVC()\n",
    "    model.fit(x_train,y_train)\n",
    "    return model"
   ]
  },
  {
   "cell_type": "markdown",
   "id": "1edea84c-c769-4603-9cc7-ab983d063449",
   "metadata": {},
   "source": [
    "### Decision Tree "
   ]
  },
  {
   "cell_type": "code",
   "execution_count": 57,
   "id": "44bc6e0e-4243-45d7-af29-86b98d5aabb2",
   "metadata": {},
   "outputs": [],
   "source": [
    "from sklearn.tree import DecisionTreeClassifier\n",
    "\n",
    "def create_model_dt():\n",
    "    model = DecisionTreeClassifier(max_depth=50)\n",
    "    model.fit(x_train,y_train)\n",
    "    return model"
   ]
  },
  {
   "cell_type": "markdown",
   "id": "8f4ad04e-8e66-4e27-9595-0aa2aaa1ec77",
   "metadata": {},
   "source": [
    "### Random Forest "
   ]
  },
  {
   "cell_type": "code",
   "execution_count": 58,
   "id": "34ab64f5-e3ec-4d53-9fab-6376965391ec",
   "metadata": {},
   "outputs": [],
   "source": [
    "from sklearn.ensemble import RandomForestClassifier\n",
    "\n",
    "def create_model_rf():\n",
    "    model = RandomForestClassifier(n_estimators=100)\n",
    "    model.fit(x_train,y_train)\n",
    "    return model"
   ]
  },
  {
   "cell_type": "markdown",
   "id": "3197be66-cbad-44cb-9c9b-437198069870",
   "metadata": {},
   "source": [
    "### Adaboost "
   ]
  },
  {
   "cell_type": "code",
   "execution_count": 59,
   "id": "b19b4c43-5731-4a2e-887d-36eb9257229e",
   "metadata": {},
   "outputs": [],
   "source": [
    "from sklearn.ensemble import AdaBoostClassifier\n",
    "\n",
    "def create_model_ada():\n",
    "    model = AdaBoostClassifier()\n",
    "    model.fit(x_train,y_train)\n",
    "    return model"
   ]
  },
  {
   "cell_type": "markdown",
   "id": "e9d653d7-4f06-4e31-997d-d28dec6ad9d7",
   "metadata": {},
   "source": [
    "### model evaluation "
   ]
  },
  {
   "cell_type": "code",
   "execution_count": 66,
   "id": "8fde7174-ab30-42ee-b592-6feacc1f11ff",
   "metadata": {},
   "outputs": [],
   "source": [
    "from sklearn.metrics import accuracy_score, precision_score, recall_score, f1_score\n",
    "\n",
    "def evaluate_model(model):\n",
    "    # training accuracry\n",
    "    y_pred = model.predict(x_train)\n",
    "    y_true = y_train\n",
    "\n",
    "    # calculate training accuracy\n",
    "    training_accuracy = accuracy_score(y_true, y_pred)\n",
    "\n",
    "    # testing accuracy\n",
    "    y_pred = model.predict(x_test)\n",
    "    y_true = y_test\n",
    "\n",
    "    # get the performance metrics for testing\n",
    "    testing_accuracy = accuracy_score(y_true, y_pred)\n",
    "    testing_precision = precision_score(y_true, y_pred,average='micro')\n",
    "    testing_recall = recall_score(y_true, y_pred,average='micro')\n",
    "    testing_f1 = f1_score(y_true, y_pred,average='micro')\n",
    "\n",
    "    return training_accuracy, testing_accuracy, testing_precision, testing_recall, testing_f1"
   ]
  },
  {
   "cell_type": "code",
   "execution_count": 61,
   "id": "62d6332a-2f4e-4de7-90df-fa43b610bf6c",
   "metadata": {},
   "outputs": [],
   "source": [
    "models = [\n",
    "    (\"Logistic Regression\", create_model_lr()),\n",
    "    (\"Naive Bayes\", create_model_nb()),\n",
    "    (\"KNN\", create_model_knn()),\n",
    "    (\"SVM\", create_model_svm()),\n",
    "    (\"Decision Tree\", create_model_dt()),\n",
    "    (\"Random Forest\", create_model_rf()),\n",
    "    (\"Adaboost\", create_model_ada())\n",
    "]"
   ]
  },
  {
   "cell_type": "code",
   "execution_count": 68,
   "id": "6344ef05-4e4a-4c66-ba72-fceab1f29d37",
   "metadata": {},
   "outputs": [
    {
     "data": {
      "text/html": [
       "<div>\n",
       "<style scoped>\n",
       "    .dataframe tbody tr th:only-of-type {\n",
       "        vertical-align: middle;\n",
       "    }\n",
       "\n",
       "    .dataframe tbody tr th {\n",
       "        vertical-align: top;\n",
       "    }\n",
       "\n",
       "    .dataframe thead th {\n",
       "        text-align: right;\n",
       "    }\n",
       "</style>\n",
       "<table border=\"1\" class=\"dataframe\">\n",
       "  <thead>\n",
       "    <tr style=\"text-align: right;\">\n",
       "      <th></th>\n",
       "      <th>Model</th>\n",
       "      <th>Train Accuracy</th>\n",
       "      <th>Test Accuracy</th>\n",
       "      <th>Precision</th>\n",
       "      <th>Recall</th>\n",
       "      <th>F1</th>\n",
       "    </tr>\n",
       "  </thead>\n",
       "  <tbody>\n",
       "    <tr>\n",
       "      <th>0</th>\n",
       "      <td>Logistic Regression</td>\n",
       "      <td>80.52%</td>\n",
       "      <td>80.33%</td>\n",
       "      <td>0.803320</td>\n",
       "      <td>0.803320</td>\n",
       "      <td>0.803320</td>\n",
       "    </tr>\n",
       "    <tr>\n",
       "      <th>1</th>\n",
       "      <td>Naive Bayes</td>\n",
       "      <td>79.53%</td>\n",
       "      <td>79.47%</td>\n",
       "      <td>0.794688</td>\n",
       "      <td>0.794688</td>\n",
       "      <td>0.794688</td>\n",
       "    </tr>\n",
       "    <tr>\n",
       "      <th>2</th>\n",
       "      <td>KNN</td>\n",
       "      <td>88.37%</td>\n",
       "      <td>83.55%</td>\n",
       "      <td>0.835525</td>\n",
       "      <td>0.835525</td>\n",
       "      <td>0.835525</td>\n",
       "    </tr>\n",
       "    <tr>\n",
       "      <th>3</th>\n",
       "      <td>SVM</td>\n",
       "      <td>79.60%</td>\n",
       "      <td>79.64%</td>\n",
       "      <td>0.796414</td>\n",
       "      <td>0.796414</td>\n",
       "      <td>0.796414</td>\n",
       "    </tr>\n",
       "    <tr>\n",
       "      <th>4</th>\n",
       "      <td>Decision Tree</td>\n",
       "      <td>97.50%</td>\n",
       "      <td>80.92%</td>\n",
       "      <td>0.809163</td>\n",
       "      <td>0.809163</td>\n",
       "      <td>0.809163</td>\n",
       "    </tr>\n",
       "    <tr>\n",
       "      <th>5</th>\n",
       "      <td>Random Forest</td>\n",
       "      <td>97.50%</td>\n",
       "      <td>84.36%</td>\n",
       "      <td>0.843559</td>\n",
       "      <td>0.843559</td>\n",
       "      <td>0.843559</td>\n",
       "    </tr>\n",
       "    <tr>\n",
       "      <th>6</th>\n",
       "      <td>Adaboost</td>\n",
       "      <td>85.68%</td>\n",
       "      <td>85.60%</td>\n",
       "      <td>0.855976</td>\n",
       "      <td>0.855976</td>\n",
       "      <td>0.855976</td>\n",
       "    </tr>\n",
       "  </tbody>\n",
       "</table>\n",
       "</div>"
      ],
      "text/plain": [
       "                 Model Train Accuracy Test Accuracy  Precision    Recall  \\\n",
       "0  Logistic Regression         80.52%        80.33%   0.803320  0.803320   \n",
       "1          Naive Bayes         79.53%        79.47%   0.794688  0.794688   \n",
       "2                  KNN         88.37%        83.55%   0.835525  0.835525   \n",
       "3                  SVM         79.60%        79.64%   0.796414  0.796414   \n",
       "4        Decision Tree         97.50%        80.92%   0.809163  0.809163   \n",
       "5        Random Forest         97.50%        84.36%   0.843559  0.843559   \n",
       "6             Adaboost         85.68%        85.60%   0.855976  0.855976   \n",
       "\n",
       "         F1  \n",
       "0  0.803320  \n",
       "1  0.794688  \n",
       "2  0.835525  \n",
       "3  0.796414  \n",
       "4  0.809163  \n",
       "5  0.843559  \n",
       "6  0.855976  "
      ]
     },
     "execution_count": 68,
     "metadata": {},
     "output_type": "execute_result"
    }
   ],
   "source": [
    "performance_data = []\n",
    "for model_name, model in models:\n",
    "    train_accuracy, test_accuracy, precision, recall, f1 = evaluate_model(model)\n",
    "    performance_data.append([\n",
    "        model_name, f\"{train_accuracy * 100:0.2f}%\", f\"{test_accuracy * 100:0.2f}%\", precision, recall, f1\n",
    "    ])\n",
    "    \n",
    "performance_chart = pd.DataFrame(performance_data, \n",
    "            columns=[\"Model\", \"Train Accuracy\", \"Test Accuracy\", \"Precision\", \"Recall\", \"F1\"])\n",
    "performance_chart"
   ]
  },
  {
   "cell_type": "code",
   "execution_count": null,
   "id": "4debba8b-cb02-421b-b31d-068245671f1a",
   "metadata": {},
   "outputs": [],
   "source": []
  }
 ],
 "metadata": {
  "kernelspec": {
   "display_name": "Python 3 (ipykernel)",
   "language": "python",
   "name": "python3"
  },
  "language_info": {
   "codemirror_mode": {
    "name": "ipython",
    "version": 3
   },
   "file_extension": ".py",
   "mimetype": "text/x-python",
   "name": "python",
   "nbconvert_exporter": "python",
   "pygments_lexer": "ipython3",
   "version": "3.12.5"
  }
 },
 "nbformat": 4,
 "nbformat_minor": 5
}
