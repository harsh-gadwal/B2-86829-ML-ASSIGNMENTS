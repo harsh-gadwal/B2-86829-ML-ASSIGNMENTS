{
 "cells": [
  {
   "cell_type": "code",
   "execution_count": 1,
   "id": "4d87a1ea-e661-4d12-b12b-6da728703b06",
   "metadata": {},
   "outputs": [],
   "source": [
    "import pandas as pd"
   ]
  },
  {
   "cell_type": "code",
   "execution_count": 2,
   "id": "7be697ff-d675-4642-aa4b-54c0bde64e62",
   "metadata": {},
   "outputs": [],
   "source": [
    "employees = [\n",
    "    {\"empid\": 1, \"name\": \"employee1\"},\n",
    "    {\"empid\": 2, \"name\": \"employee2\"},\n",
    "    {\"empid\": 3, \"name\": \"employee3\"},\n",
    "    {\"empid\": 4, \"name\": \"employee4\"},\n",
    "    {\"empid\": 5, \"name\": \"employee5\"},\n",
    "    {\"empid\": 6, \"name\": \"employee6\"},\n",
    "    {\"empid\": 7, \"name\": \"employee7\"},\n",
    "    {\"empid\": 8, \"name\": \"employee8\"},\n",
    "    {\"empid\": 9, \"name\": \"employee9\"},\n",
    "    {\"empid\": 10, \"name\": \"employee10\"},\n",
    "]"
   ]
  },
  {
   "cell_type": "code",
   "execution_count": 3,
   "id": "1e84095c-9bbe-49b8-90b8-71a528f10f1d",
   "metadata": {},
   "outputs": [],
   "source": [
    "emp_id = pd.Series([emp['empid'] for emp in employees])\n",
    "name = pd.Series([emp['name'] for emp in employees])\n",
    "\n",
    "df = pd.DataFrame({\"Empid\": emp_id, \"Name\": name})"
   ]
  },
  {
   "cell_type": "code",
   "execution_count": 4,
   "id": "81788439-8123-4cc0-b22c-f852f6608516",
   "metadata": {},
   "outputs": [
    {
     "name": "stdout",
     "output_type": "stream",
     "text": [
      "   Empid        Name\n",
      "0      1   employee1\n",
      "1      2   employee2\n",
      "2      3   employee3\n",
      "3      4   employee4\n",
      "4      5   employee5\n",
      "5      6   employee6\n",
      "6      7   employee7\n",
      "7      8   employee8\n",
      "8      9   employee9\n",
      "9     10  employee10\n"
     ]
    }
   ],
   "source": [
    "print(df)"
   ]
  },
  {
   "cell_type": "code",
   "execution_count": 5,
   "id": "fc9d1bac-12f4-4c4a-b1c4-6ec25bcf68c3",
   "metadata": {},
   "outputs": [
    {
     "name": "stdout",
     "output_type": "stream",
     "text": [
      "   Empid       Name\n",
      "0      1  employee1\n",
      "1      2  employee2\n",
      "2      3  employee3\n",
      "3      4  employee4\n",
      "4      5  employee5\n"
     ]
    }
   ],
   "source": [
    "print(df.head(5))"
   ]
  },
  {
   "cell_type": "code",
   "execution_count": 6,
   "id": "f6b65c06-519e-47e4-ba38-ec16ea3033b5",
   "metadata": {},
   "outputs": [
    {
     "name": "stdout",
     "output_type": "stream",
     "text": [
      "   Empid        Name\n",
      "5      6   employee6\n",
      "6      7   employee7\n",
      "7      8   employee8\n",
      "8      9   employee9\n",
      "9     10  employee10\n"
     ]
    }
   ],
   "source": [
    "print(df.tail(5))"
   ]
  },
  {
   "cell_type": "code",
   "execution_count": 7,
   "id": "23487626-b319-4482-b63d-60debf77d0ac",
   "metadata": {},
   "outputs": [],
   "source": [
    "df.to_csv(\"MyRecord.csv\")"
   ]
  },
  {
   "cell_type": "code",
   "execution_count": null,
   "id": "fc68a949-82ba-40e0-bb7b-e6dbb63afdbe",
   "metadata": {},
   "outputs": [],
   "source": []
  }
 ],
 "metadata": {
  "kernelspec": {
   "display_name": "Python 3 (ipykernel)",
   "language": "python",
   "name": "python3"
  },
  "language_info": {
   "codemirror_mode": {
    "name": "ipython",
    "version": 3
   },
   "file_extension": ".py",
   "mimetype": "text/x-python",
   "name": "python",
   "nbconvert_exporter": "python",
   "pygments_lexer": "ipython3",
   "version": "3.12.5"
  }
 },
 "nbformat": 4,
 "nbformat_minor": 5
}
