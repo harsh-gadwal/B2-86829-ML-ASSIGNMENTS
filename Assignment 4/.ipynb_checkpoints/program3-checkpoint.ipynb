{
 "cells": [
  {
   "cell_type": "markdown",
   "id": "50d4996c-1630-4d1f-8735-2a903a08f866",
   "metadata": {},
   "source": [
    "Que 3.\n",
    "The SAT-GPA dataset contains information of SAT and GPA scores. We have to predict GPA score on the basis of SAT score by using Linear Regression \n",
    "and Polynomial Regression model. Also evaluate the model by using evaluation metrics."
   ]
  },
  {
   "cell_type": "code",
   "execution_count": null,
   "id": "4bd75050-bfbd-4b20-8a1b-7b1215a99b9d",
   "metadata": {},
   "outputs": [],
   "source": []
  }
 ],
 "metadata": {
  "kernelspec": {
   "display_name": "Python 3 (ipykernel)",
   "language": "python",
   "name": "python3"
  },
  "language_info": {
   "codemirror_mode": {
    "name": "ipython",
    "version": 3
   },
   "file_extension": ".py",
   "mimetype": "text/x-python",
   "name": "python",
   "nbconvert_exporter": "python",
   "pygments_lexer": "ipython3",
   "version": "3.12.5"
  }
 },
 "nbformat": 4,
 "nbformat_minor": 5
}
