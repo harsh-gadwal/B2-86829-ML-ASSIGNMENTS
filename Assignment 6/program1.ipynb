{
 "cells": [
  {
   "cell_type": "markdown",
   "id": "60a8a746-91ba-45f3-bf70-20d642238d88",
   "metadata": {},
   "source": [
    "Que1.-\n",
    "In this dataset you have to predict that whether we have to give ATTORNEY to the clients or not (0=Yes, 1=No) based on below factors.\n",
    "CLMAGE - Age of Client\n",
    "CLMSEX - Sex of client (0=Male, 1= Female)\n",
    "SEATBELT - Whether client has Seatbelt or not (0=Yes, 1=No)\n",
    "CLMINSUR - Whether Client give Insurance or not (0=Yes, 1=No)\n",
    "LOSS - Loss that client faced\n",
    "\n",
    "Prepare model by using Naive Bayes,KNN and SVM & Also calculate Accuracy by confusion matrix, Calculate accuracy score, precision score, \n",
    "recall score, f1 score.\n",
    "\n",
    "Dataset : Claimants.csv"
   ]
  },
  {
   "cell_type": "markdown",
   "id": "59088e17-2f6c-4cfa-bfbb-2b8fc09926f1",
   "metadata": {},
   "source": [
    "### import required packages"
   ]
  },
  {
   "cell_type": "code",
   "execution_count": 3,
   "id": "8d582596-cc58-488e-a7ef-ca7c6fb400fe",
   "metadata": {},
   "outputs": [],
   "source": [
    "import numpy as np\n",
    "import pandas as pd\n",
    "import matplotlib.pyplot as plt\n",
    "import seaborn as sns"
   ]
  },
  {
   "cell_type": "markdown",
   "id": "f22c76ea-123e-4025-ace2-2ecb2e4a84f0",
   "metadata": {},
   "source": [
    "### load the data"
   ]
  },
  {
   "cell_type": "code",
   "execution_count": 4,
   "id": "6c22276f-35e0-4996-9596-bf5a986315f8",
   "metadata": {},
   "outputs": [
    {
     "data": {
      "text/html": [
       "<div>\n",
       "<style scoped>\n",
       "    .dataframe tbody tr th:only-of-type {\n",
       "        vertical-align: middle;\n",
       "    }\n",
       "\n",
       "    .dataframe tbody tr th {\n",
       "        vertical-align: top;\n",
       "    }\n",
       "\n",
       "    .dataframe thead th {\n",
       "        text-align: right;\n",
       "    }\n",
       "</style>\n",
       "<table border=\"1\" class=\"dataframe\">\n",
       "  <thead>\n",
       "    <tr style=\"text-align: right;\">\n",
       "      <th></th>\n",
       "      <th>ATTORNEY</th>\n",
       "      <th>CLMSEX</th>\n",
       "      <th>CLMINSUR</th>\n",
       "      <th>SEATBELT</th>\n",
       "      <th>CLMAGE</th>\n",
       "      <th>LOSS</th>\n",
       "    </tr>\n",
       "  </thead>\n",
       "  <tbody>\n",
       "    <tr>\n",
       "      <th>0</th>\n",
       "      <td>0</td>\n",
       "      <td>0.0</td>\n",
       "      <td>1.0</td>\n",
       "      <td>0.0</td>\n",
       "      <td>50.0</td>\n",
       "      <td>34.940</td>\n",
       "    </tr>\n",
       "    <tr>\n",
       "      <th>1</th>\n",
       "      <td>1</td>\n",
       "      <td>1.0</td>\n",
       "      <td>0.0</td>\n",
       "      <td>0.0</td>\n",
       "      <td>18.0</td>\n",
       "      <td>0.891</td>\n",
       "    </tr>\n",
       "    <tr>\n",
       "      <th>2</th>\n",
       "      <td>1</td>\n",
       "      <td>0.0</td>\n",
       "      <td>1.0</td>\n",
       "      <td>0.0</td>\n",
       "      <td>5.0</td>\n",
       "      <td>0.330</td>\n",
       "    </tr>\n",
       "    <tr>\n",
       "      <th>3</th>\n",
       "      <td>0</td>\n",
       "      <td>0.0</td>\n",
       "      <td>1.0</td>\n",
       "      <td>1.0</td>\n",
       "      <td>31.0</td>\n",
       "      <td>0.037</td>\n",
       "    </tr>\n",
       "    <tr>\n",
       "      <th>4</th>\n",
       "      <td>1</td>\n",
       "      <td>0.0</td>\n",
       "      <td>1.0</td>\n",
       "      <td>0.0</td>\n",
       "      <td>30.0</td>\n",
       "      <td>0.038</td>\n",
       "    </tr>\n",
       "  </tbody>\n",
       "</table>\n",
       "</div>"
      ],
      "text/plain": [
       "   ATTORNEY  CLMSEX  CLMINSUR  SEATBELT  CLMAGE    LOSS\n",
       "0         0     0.0       1.0       0.0    50.0  34.940\n",
       "1         1     1.0       0.0       0.0    18.0   0.891\n",
       "2         1     0.0       1.0       0.0     5.0   0.330\n",
       "3         0     0.0       1.0       1.0    31.0   0.037\n",
       "4         1     0.0       1.0       0.0    30.0   0.038"
      ]
     },
     "execution_count": 4,
     "metadata": {},
     "output_type": "execute_result"
    }
   ],
   "source": [
    "df = pd.read_csv('claimants.csv')\n",
    "df.head()"
   ]
  },
  {
   "cell_type": "markdown",
   "id": "2b7d7e52-2da0-4df4-b0dc-bc2d923c7c7b",
   "metadata": {},
   "source": [
    "### exploratory data analysis"
   ]
  },
  {
   "cell_type": "code",
   "execution_count": 5,
   "id": "66123f0d-d71e-4632-83f5-b1d03502aea8",
   "metadata": {},
   "outputs": [
    {
     "name": "stdout",
     "output_type": "stream",
     "text": [
      "<class 'pandas.core.frame.DataFrame'>\n",
      "RangeIndex: 1340 entries, 0 to 1339\n",
      "Data columns (total 6 columns):\n",
      " #   Column    Non-Null Count  Dtype  \n",
      "---  ------    --------------  -----  \n",
      " 0   ATTORNEY  1340 non-null   int64  \n",
      " 1   CLMSEX    1328 non-null   float64\n",
      " 2   CLMINSUR  1299 non-null   float64\n",
      " 3   SEATBELT  1292 non-null   float64\n",
      " 4   CLMAGE    1151 non-null   float64\n",
      " 5   LOSS      1340 non-null   float64\n",
      "dtypes: float64(5), int64(1)\n",
      "memory usage: 62.9 KB\n"
     ]
    }
   ],
   "source": [
    "df.info()"
   ]
  },
  {
   "cell_type": "code",
   "execution_count": 6,
   "id": "3bf3d835-648c-47db-9928-52d0b9c0ba14",
   "metadata": {},
   "outputs": [
    {
     "data": {
      "text/plain": [
       "ATTORNEY      0\n",
       "CLMSEX       12\n",
       "CLMINSUR     41\n",
       "SEATBELT     48\n",
       "CLMAGE      189\n",
       "LOSS          0\n",
       "dtype: int64"
      ]
     },
     "execution_count": 6,
     "metadata": {},
     "output_type": "execute_result"
    }
   ],
   "source": [
    "df.isna().sum()"
   ]
  },
  {
   "cell_type": "code",
   "execution_count": 7,
   "id": "dd605d10-6379-448d-821c-578772f55dfb",
   "metadata": {},
   "outputs": [],
   "source": [
    "l = ['CLMSEX','CLMINSUR','SEATBELT','CLMAGE']\n",
    "for i in l:\n",
    "    df[i] = df[i].fillna(df[i].mean())"
   ]
  },
  {
   "cell_type": "code",
   "execution_count": 8,
   "id": "d2b3db8e-bc47-433a-bb3e-528a8a5b8db8",
   "metadata": {},
   "outputs": [
    {
     "data": {
      "text/plain": [
       "ATTORNEY    0\n",
       "CLMSEX      0\n",
       "CLMINSUR    0\n",
       "SEATBELT    0\n",
       "CLMAGE      0\n",
       "LOSS        0\n",
       "dtype: int64"
      ]
     },
     "execution_count": 8,
     "metadata": {},
     "output_type": "execute_result"
    }
   ],
   "source": [
    "df.isna().sum()"
   ]
  },
  {
   "cell_type": "code",
   "execution_count": 9,
   "id": "2c588b72-c2ae-400e-b8e3-50ebd32ef2a3",
   "metadata": {},
   "outputs": [
    {
     "data": {
      "text/plain": [
       "ATTORNEY\n",
       "0    685\n",
       "1    655\n",
       "Name: count, dtype: int64"
      ]
     },
     "execution_count": 9,
     "metadata": {},
     "output_type": "execute_result"
    }
   ],
   "source": [
    "# check if the data is imbalanced\n",
    "df['ATTORNEY'].value_counts()"
   ]
  },
  {
   "cell_type": "code",
   "execution_count": 10,
   "id": "330a1820-2ee7-4bf8-8319-cbab5861898f",
   "metadata": {},
   "outputs": [
    {
     "data": {
      "text/html": [
       "<div>\n",
       "<style scoped>\n",
       "    .dataframe tbody tr th:only-of-type {\n",
       "        vertical-align: middle;\n",
       "    }\n",
       "\n",
       "    .dataframe tbody tr th {\n",
       "        vertical-align: top;\n",
       "    }\n",
       "\n",
       "    .dataframe thead th {\n",
       "        text-align: right;\n",
       "    }\n",
       "</style>\n",
       "<table border=\"1\" class=\"dataframe\">\n",
       "  <thead>\n",
       "    <tr style=\"text-align: right;\">\n",
       "      <th></th>\n",
       "      <th>ATTORNEY</th>\n",
       "      <th>CLMSEX</th>\n",
       "      <th>CLMINSUR</th>\n",
       "      <th>SEATBELT</th>\n",
       "      <th>CLMAGE</th>\n",
       "      <th>LOSS</th>\n",
       "    </tr>\n",
       "  </thead>\n",
       "  <tbody>\n",
       "    <tr>\n",
       "      <th>ATTORNEY</th>\n",
       "      <td>0.250061</td>\n",
       "      <td>0.019614</td>\n",
       "      <td>0.011156</td>\n",
       "      <td>-0.003569</td>\n",
       "      <td>0.093020</td>\n",
       "      <td>-1.168687</td>\n",
       "    </tr>\n",
       "    <tr>\n",
       "      <th>CLMSEX</th>\n",
       "      <td>0.019614</td>\n",
       "      <td>0.244525</td>\n",
       "      <td>0.009221</td>\n",
       "      <td>-0.000929</td>\n",
       "      <td>-0.199389</td>\n",
       "      <td>-0.145185</td>\n",
       "    </tr>\n",
       "    <tr>\n",
       "      <th>CLMINSUR</th>\n",
       "      <td>0.011156</td>\n",
       "      <td>0.009221</td>\n",
       "      <td>0.081340</td>\n",
       "      <td>0.000757</td>\n",
       "      <td>0.248232</td>\n",
       "      <td>0.017625</td>\n",
       "    </tr>\n",
       "    <tr>\n",
       "      <th>SEATBELT</th>\n",
       "      <td>-0.003569</td>\n",
       "      <td>-0.000929</td>\n",
       "      <td>0.000757</td>\n",
       "      <td>0.016150</td>\n",
       "      <td>-0.062735</td>\n",
       "      <td>0.150090</td>\n",
       "    </tr>\n",
       "    <tr>\n",
       "      <th>CLMAGE</th>\n",
       "      <td>0.093020</td>\n",
       "      <td>-0.199389</td>\n",
       "      <td>0.248232</td>\n",
       "      <td>-0.062735</td>\n",
       "      <td>354.078656</td>\n",
       "      <td>11.537022</td>\n",
       "    </tr>\n",
       "    <tr>\n",
       "      <th>LOSS</th>\n",
       "      <td>-1.168687</td>\n",
       "      <td>-0.145185</td>\n",
       "      <td>0.017625</td>\n",
       "      <td>0.150090</td>\n",
       "      <td>11.537022</td>\n",
       "      <td>113.143709</td>\n",
       "    </tr>\n",
       "  </tbody>\n",
       "</table>\n",
       "</div>"
      ],
      "text/plain": [
       "          ATTORNEY    CLMSEX  CLMINSUR  SEATBELT      CLMAGE        LOSS\n",
       "ATTORNEY  0.250061  0.019614  0.011156 -0.003569    0.093020   -1.168687\n",
       "CLMSEX    0.019614  0.244525  0.009221 -0.000929   -0.199389   -0.145185\n",
       "CLMINSUR  0.011156  0.009221  0.081340  0.000757    0.248232    0.017625\n",
       "SEATBELT -0.003569 -0.000929  0.000757  0.016150   -0.062735    0.150090\n",
       "CLMAGE    0.093020 -0.199389  0.248232 -0.062735  354.078656   11.537022\n",
       "LOSS     -1.168687 -0.145185  0.017625  0.150090   11.537022  113.143709"
      ]
     },
     "execution_count": 10,
     "metadata": {},
     "output_type": "execute_result"
    }
   ],
   "source": [
    "df.cov()"
   ]
  },
  {
   "cell_type": "code",
   "execution_count": 11,
   "id": "6d9d9e19-f617-47a3-9423-6b36f1d8c05a",
   "metadata": {},
   "outputs": [
    {
     "data": {
      "text/html": [
       "<div>\n",
       "<style scoped>\n",
       "    .dataframe tbody tr th:only-of-type {\n",
       "        vertical-align: middle;\n",
       "    }\n",
       "\n",
       "    .dataframe tbody tr th {\n",
       "        vertical-align: top;\n",
       "    }\n",
       "\n",
       "    .dataframe thead th {\n",
       "        text-align: right;\n",
       "    }\n",
       "</style>\n",
       "<table border=\"1\" class=\"dataframe\">\n",
       "  <thead>\n",
       "    <tr style=\"text-align: right;\">\n",
       "      <th></th>\n",
       "      <th>ATTORNEY</th>\n",
       "      <th>CLMSEX</th>\n",
       "      <th>CLMINSUR</th>\n",
       "      <th>SEATBELT</th>\n",
       "      <th>CLMAGE</th>\n",
       "      <th>LOSS</th>\n",
       "    </tr>\n",
       "  </thead>\n",
       "  <tbody>\n",
       "    <tr>\n",
       "      <th>ATTORNEY</th>\n",
       "      <td>1.000000</td>\n",
       "      <td>0.079321</td>\n",
       "      <td>0.078221</td>\n",
       "      <td>-0.056158</td>\n",
       "      <td>0.009886</td>\n",
       "      <td>-0.219715</td>\n",
       "    </tr>\n",
       "    <tr>\n",
       "      <th>CLMSEX</th>\n",
       "      <td>0.079321</td>\n",
       "      <td>1.000000</td>\n",
       "      <td>0.065382</td>\n",
       "      <td>-0.014778</td>\n",
       "      <td>-0.021428</td>\n",
       "      <td>-0.027602</td>\n",
       "    </tr>\n",
       "    <tr>\n",
       "      <th>CLMINSUR</th>\n",
       "      <td>0.078221</td>\n",
       "      <td>0.065382</td>\n",
       "      <td>1.000000</td>\n",
       "      <td>0.020899</td>\n",
       "      <td>0.046255</td>\n",
       "      <td>0.005810</td>\n",
       "    </tr>\n",
       "    <tr>\n",
       "      <th>SEATBELT</th>\n",
       "      <td>-0.056158</td>\n",
       "      <td>-0.014778</td>\n",
       "      <td>0.020899</td>\n",
       "      <td>1.000000</td>\n",
       "      <td>-0.026234</td>\n",
       "      <td>0.111031</td>\n",
       "    </tr>\n",
       "    <tr>\n",
       "      <th>CLMAGE</th>\n",
       "      <td>0.009886</td>\n",
       "      <td>-0.021428</td>\n",
       "      <td>0.046255</td>\n",
       "      <td>-0.026234</td>\n",
       "      <td>1.000000</td>\n",
       "      <td>0.057641</td>\n",
       "    </tr>\n",
       "    <tr>\n",
       "      <th>LOSS</th>\n",
       "      <td>-0.219715</td>\n",
       "      <td>-0.027602</td>\n",
       "      <td>0.005810</td>\n",
       "      <td>0.111031</td>\n",
       "      <td>0.057641</td>\n",
       "      <td>1.000000</td>\n",
       "    </tr>\n",
       "  </tbody>\n",
       "</table>\n",
       "</div>"
      ],
      "text/plain": [
       "          ATTORNEY    CLMSEX  CLMINSUR  SEATBELT    CLMAGE      LOSS\n",
       "ATTORNEY  1.000000  0.079321  0.078221 -0.056158  0.009886 -0.219715\n",
       "CLMSEX    0.079321  1.000000  0.065382 -0.014778 -0.021428 -0.027602\n",
       "CLMINSUR  0.078221  0.065382  1.000000  0.020899  0.046255  0.005810\n",
       "SEATBELT -0.056158 -0.014778  0.020899  1.000000 -0.026234  0.111031\n",
       "CLMAGE    0.009886 -0.021428  0.046255 -0.026234  1.000000  0.057641\n",
       "LOSS     -0.219715 -0.027602  0.005810  0.111031  0.057641  1.000000"
      ]
     },
     "execution_count": 11,
     "metadata": {},
     "output_type": "execute_result"
    }
   ],
   "source": [
    "df.corr()"
   ]
  },
  {
   "cell_type": "markdown",
   "id": "b01a610d-0cfc-4455-9e0b-4f5a4b400b2d",
   "metadata": {},
   "source": [
    "### pre-processing"
   ]
  },
  {
   "cell_type": "code",
   "execution_count": 12,
   "id": "1d46348d-9759-41e5-912d-ed0f937ad15d",
   "metadata": {},
   "outputs": [],
   "source": [
    "# split the data into x and y\n",
    "x = df.drop(['ATTORNEY','CLMAGE'],axis=1)\n",
    "y = df['ATTORNEY']"
   ]
  },
  {
   "cell_type": "markdown",
   "id": "c128666b-9dad-4f70-899a-4f56109cf037",
   "metadata": {},
   "source": [
    "### split the data into train and test sets"
   ]
  },
  {
   "cell_type": "code",
   "execution_count": 20,
   "id": "012ff02f-15b4-415d-bddc-184587afc8c2",
   "metadata": {},
   "outputs": [],
   "source": [
    "from sklearn.model_selection import train_test_split\n",
    "\n",
    "x_train, x_test, y_train, y_test = train_test_split(x, y, train_size=0.7, random_state=123456)"
   ]
  },
  {
   "cell_type": "markdown",
   "id": "02d53935-31db-4bc7-9a3d-9146c33434ad",
   "metadata": {},
   "source": [
    "### train the models"
   ]
  },
  {
   "cell_type": "markdown",
   "id": "46574dfa-9a10-43b6-9f6d-ff59bed4f3f3",
   "metadata": {},
   "source": [
    "#### Naive Bayes"
   ]
  },
  {
   "cell_type": "code",
   "execution_count": 21,
   "id": "ff6022bb-baa1-4986-8786-4dcb07ad00d7",
   "metadata": {},
   "outputs": [],
   "source": [
    "from sklearn.naive_bayes import GaussianNB\n",
    "\n",
    "def create_naive_bayes_model():\n",
    "\n",
    "    # create the model\n",
    "    model = GaussianNB()\n",
    "\n",
    "    # train the model\n",
    "    model.fit(x_train, y_train)\n",
    "\n",
    "    return model"
   ]
  },
  {
   "cell_type": "markdown",
   "id": "92096737-b085-4dda-b4f5-acdd154c94d1",
   "metadata": {},
   "source": [
    "#### KNN"
   ]
  },
  {
   "cell_type": "code",
   "execution_count": 22,
   "id": "c029fcd3-acba-413a-ad9f-f44bf457a3d9",
   "metadata": {},
   "outputs": [],
   "source": [
    "from sklearn.neighbors import KNeighborsClassifier\n",
    "\n",
    "def create_knn_model():\n",
    "\n",
    "    # create the model\n",
    "    model = KNeighborsClassifier(n_neighbors=5)\n",
    "\n",
    "    # train the model\n",
    "    model.fit(x_train, y_train)\n",
    "\n",
    "    return model"
   ]
  },
  {
   "cell_type": "markdown",
   "id": "b753f62b-b93f-49be-940c-4fddac589523",
   "metadata": {},
   "source": [
    "#### SVM"
   ]
  },
  {
   "cell_type": "code",
   "execution_count": 23,
   "id": "ac55d3dc-f7bb-40ef-b823-b36f7a116ca4",
   "metadata": {},
   "outputs": [],
   "source": [
    "from sklearn.svm import SVC\n",
    "\n",
    "def create_svm_model():\n",
    "    # create a model\n",
    "    model = SVC()\n",
    "    \n",
    "    # train the model\n",
    "    model.fit(x_train, y_train)\n",
    "\n",
    "    return model"
   ]
  },
  {
   "cell_type": "markdown",
   "id": "7cdfbb0a-eb9c-4ee9-85d5-8220c49b4e27",
   "metadata": {},
   "source": [
    "### model evaluation"
   ]
  },
  {
   "cell_type": "code",
   "execution_count": 27,
   "id": "8c0f59b6-3ad3-4b61-b6a2-0ddc92bd2f0c",
   "metadata": {},
   "outputs": [],
   "source": [
    "from sklearn.metrics import confusion_matrix, accuracy_score, precision_score, recall_score, f1_score\n",
    "\n",
    "def evaluate_model(model_name, model):\n",
    "    \n",
    "    # get the predictions using model\n",
    "    y_pred = model.predict(x_test)\n",
    "    y_true = y_test\n",
    "\n",
    "    print(confusion_matrix(y_true, y_pred))\n",
    "    \n",
    "    # get the accuracy\n",
    "    accuracy = accuracy_score(y_true, y_pred)\n",
    "\n",
    "    # get the precision\n",
    "    precision = precision_score(y_true, y_pred)\n",
    "\n",
    "    # get the recall\n",
    "    recall = recall_score(y_true, y_pred)\n",
    "\n",
    "    # get f1 score\n",
    "    f1 = f1_score(y_true, y_pred)\n",
    "\n",
    "    return model_name, accuracy, precision, recall, f1"
   ]
  },
  {
   "cell_type": "code",
   "execution_count": 28,
   "id": "fae43f85-61ee-40e8-9515-ebae03cfdbaf",
   "metadata": {},
   "outputs": [],
   "source": [
    "# create Naive Bayes model\n",
    "model_nb = create_naive_bayes_model()\n",
    "\n",
    "# create KNN model\n",
    "model_knn = create_knn_model()\n",
    "\n",
    "# create SVM model\n",
    "model_svm = create_svm_model()"
   ]
  },
  {
   "cell_type": "code",
   "execution_count": 30,
   "id": "e60ef1f4-29e8-40aa-9bb5-7744a178b836",
   "metadata": {},
   "outputs": [
    {
     "name": "stdout",
     "output_type": "stream",
     "text": [
      "[[ 29 178]\n",
      " [  6 190]]\n",
      "[[147  60]\n",
      " [ 64 132]]\n",
      "[[122  85]\n",
      " [ 34 162]]\n"
     ]
    }
   ],
   "source": [
    "# evaluate all the models\n",
    "model_evaluation_params = pd.DataFrame([\n",
    "    evaluate_model(\"Naive Bayes\", model_nb),\n",
    "    evaluate_model('KNN', model_knn), \n",
    "    evaluate_model('SVM', model_svm)\n",
    "], columns=[\"Model Name\", \"Accuracy\", \"Precision\", \"Recall\", \"F1 Score\"])"
   ]
  },
  {
   "cell_type": "code",
   "execution_count": 31,
   "id": "fc38cceb-4c1f-47f5-814b-3312231ca950",
   "metadata": {},
   "outputs": [
    {
     "data": {
      "text/html": [
       "<div>\n",
       "<style scoped>\n",
       "    .dataframe tbody tr th:only-of-type {\n",
       "        vertical-align: middle;\n",
       "    }\n",
       "\n",
       "    .dataframe tbody tr th {\n",
       "        vertical-align: top;\n",
       "    }\n",
       "\n",
       "    .dataframe thead th {\n",
       "        text-align: right;\n",
       "    }\n",
       "</style>\n",
       "<table border=\"1\" class=\"dataframe\">\n",
       "  <thead>\n",
       "    <tr style=\"text-align: right;\">\n",
       "      <th></th>\n",
       "      <th>Model Name</th>\n",
       "      <th>Accuracy</th>\n",
       "      <th>Precision</th>\n",
       "      <th>Recall</th>\n",
       "      <th>F1 Score</th>\n",
       "    </tr>\n",
       "  </thead>\n",
       "  <tbody>\n",
       "    <tr>\n",
       "      <th>0</th>\n",
       "      <td>Naive Bayes</td>\n",
       "      <td>0.543424</td>\n",
       "      <td>0.516304</td>\n",
       "      <td>0.969388</td>\n",
       "      <td>0.673759</td>\n",
       "    </tr>\n",
       "    <tr>\n",
       "      <th>1</th>\n",
       "      <td>KNN</td>\n",
       "      <td>0.692308</td>\n",
       "      <td>0.687500</td>\n",
       "      <td>0.673469</td>\n",
       "      <td>0.680412</td>\n",
       "    </tr>\n",
       "    <tr>\n",
       "      <th>2</th>\n",
       "      <td>SVM</td>\n",
       "      <td>0.704715</td>\n",
       "      <td>0.655870</td>\n",
       "      <td>0.826531</td>\n",
       "      <td>0.731377</td>\n",
       "    </tr>\n",
       "  </tbody>\n",
       "</table>\n",
       "</div>"
      ],
      "text/plain": [
       "    Model Name  Accuracy  Precision    Recall  F1 Score\n",
       "0  Naive Bayes  0.543424   0.516304  0.969388  0.673759\n",
       "1          KNN  0.692308   0.687500  0.673469  0.680412\n",
       "2          SVM  0.704715   0.655870  0.826531  0.731377"
      ]
     },
     "execution_count": 31,
     "metadata": {},
     "output_type": "execute_result"
    }
   ],
   "source": [
    "# performance chart\n",
    "model_evaluation_params"
   ]
  },
  {
   "cell_type": "code",
   "execution_count": null,
   "id": "8418d068-787e-4a59-a679-4e01d8850627",
   "metadata": {},
   "outputs": [],
   "source": []
  }
 ],
 "metadata": {
  "kernelspec": {
   "display_name": "Python 3 (ipykernel)",
   "language": "python",
   "name": "python3"
  },
  "language_info": {
   "codemirror_mode": {
    "name": "ipython",
    "version": 3
   },
   "file_extension": ".py",
   "mimetype": "text/x-python",
   "name": "python",
   "nbconvert_exporter": "python",
   "pygments_lexer": "ipython3",
   "version": "3.12.5"
  }
 },
 "nbformat": 4,
 "nbformat_minor": 5
}
