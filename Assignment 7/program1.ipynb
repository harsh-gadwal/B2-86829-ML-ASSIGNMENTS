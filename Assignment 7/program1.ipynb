{
 "cells": [
  {
   "cell_type": "markdown",
   "id": "b6056408-11bb-421d-a75e-a85e8e87ae93",
   "metadata": {},
   "source": [
    "Que.1 -\n",
    "Data Description:\n",
    "RI : refractive index\n",
    "Na: Sodium (unit measurement: weight percent in corresponding oxide, as are attributes 4-10)\n",
    "Mg: Magnesium\n",
    "AI: Aluminum\n",
    "Si: Silicon\n",
    "K:Potassium\n",
    "Ca: Calcium\n",
    "Ba: Barium\n",
    "Fe: Iron\n",
    "Type: Type of glass: (class attribute)\n",
    " 1 -- building_windows_float_processed\n",
    " 2 --building_windows_non_float_processed\n",
    " 3 --vehicle_windows_float_processed\n",
    " 4 --vehicle_windows_non_float_processed (none in this database)\n",
    " 5 --containers\n",
    " 6 --tableware\n",
    " 7 --headlamps\n",
    "\n",
    "Dataset : Glass.csv\n",
    "\n",
    "Prepare model by using Decision Tree, Random Forest , AdaBoost, CatBoost ,XGBoost & Calculate Accuracy by confusion matrix, Calculate accuracy score, precision score, recall score, f1 score."
   ]
  },
  {
   "cell_type": "markdown",
   "id": "b46c1baf-6798-4a05-b495-dcfd8e5204d2",
   "metadata": {},
   "source": [
    "### pre-requisites"
   ]
  },
  {
   "cell_type": "code",
   "execution_count": 3,
   "id": "95a6267a-d0da-4eb3-99b0-6d80fc3f24b7",
   "metadata": {},
   "outputs": [],
   "source": [
    "import warnings\n",
    "warnings.filterwarnings(action=\"ignore\")"
   ]
  },
  {
   "cell_type": "markdown",
   "id": "e189ff9a-50e5-4ff0-99b2-5f43b361733a",
   "metadata": {},
   "source": [
    "### import required packages"
   ]
  },
  {
   "cell_type": "code",
   "execution_count": 4,
   "id": "3de45dc7-b79a-4577-8083-9c9358e6eafc",
   "metadata": {},
   "outputs": [],
   "source": [
    "import numpy as np\n",
    "import pandas as pd\n",
    "import matplotlib.pyplot as plt\n",
    "import seaborn as sns"
   ]
  },
  {
   "cell_type": "markdown",
   "id": "0d30f82b-245d-492a-a616-a8c84b142429",
   "metadata": {},
   "source": [
    "### load the data"
   ]
  },
  {
   "cell_type": "code",
   "execution_count": 5,
   "id": "fb9a8f5e-a929-4c15-8283-4bd9f18ffcb8",
   "metadata": {},
   "outputs": [
    {
     "data": {
      "text/html": [
       "<div>\n",
       "<style scoped>\n",
       "    .dataframe tbody tr th:only-of-type {\n",
       "        vertical-align: middle;\n",
       "    }\n",
       "\n",
       "    .dataframe tbody tr th {\n",
       "        vertical-align: top;\n",
       "    }\n",
       "\n",
       "    .dataframe thead th {\n",
       "        text-align: right;\n",
       "    }\n",
       "</style>\n",
       "<table border=\"1\" class=\"dataframe\">\n",
       "  <thead>\n",
       "    <tr style=\"text-align: right;\">\n",
       "      <th></th>\n",
       "      <th>RI</th>\n",
       "      <th>Na</th>\n",
       "      <th>Mg</th>\n",
       "      <th>Al</th>\n",
       "      <th>Si</th>\n",
       "      <th>K</th>\n",
       "      <th>Ca</th>\n",
       "      <th>Ba</th>\n",
       "      <th>Fe</th>\n",
       "      <th>Type</th>\n",
       "    </tr>\n",
       "  </thead>\n",
       "  <tbody>\n",
       "    <tr>\n",
       "      <th>0</th>\n",
       "      <td>1.52101</td>\n",
       "      <td>13.64</td>\n",
       "      <td>4.49</td>\n",
       "      <td>1.10</td>\n",
       "      <td>71.78</td>\n",
       "      <td>0.06</td>\n",
       "      <td>8.75</td>\n",
       "      <td>0.0</td>\n",
       "      <td>0.0</td>\n",
       "      <td>1</td>\n",
       "    </tr>\n",
       "    <tr>\n",
       "      <th>1</th>\n",
       "      <td>1.51761</td>\n",
       "      <td>13.89</td>\n",
       "      <td>3.60</td>\n",
       "      <td>1.36</td>\n",
       "      <td>72.73</td>\n",
       "      <td>0.48</td>\n",
       "      <td>7.83</td>\n",
       "      <td>0.0</td>\n",
       "      <td>0.0</td>\n",
       "      <td>1</td>\n",
       "    </tr>\n",
       "    <tr>\n",
       "      <th>2</th>\n",
       "      <td>1.51618</td>\n",
       "      <td>13.53</td>\n",
       "      <td>3.55</td>\n",
       "      <td>1.54</td>\n",
       "      <td>72.99</td>\n",
       "      <td>0.39</td>\n",
       "      <td>7.78</td>\n",
       "      <td>0.0</td>\n",
       "      <td>0.0</td>\n",
       "      <td>1</td>\n",
       "    </tr>\n",
       "    <tr>\n",
       "      <th>3</th>\n",
       "      <td>1.51766</td>\n",
       "      <td>13.21</td>\n",
       "      <td>3.69</td>\n",
       "      <td>1.29</td>\n",
       "      <td>72.61</td>\n",
       "      <td>0.57</td>\n",
       "      <td>8.22</td>\n",
       "      <td>0.0</td>\n",
       "      <td>0.0</td>\n",
       "      <td>1</td>\n",
       "    </tr>\n",
       "    <tr>\n",
       "      <th>4</th>\n",
       "      <td>1.51742</td>\n",
       "      <td>13.27</td>\n",
       "      <td>3.62</td>\n",
       "      <td>1.24</td>\n",
       "      <td>73.08</td>\n",
       "      <td>0.55</td>\n",
       "      <td>8.07</td>\n",
       "      <td>0.0</td>\n",
       "      <td>0.0</td>\n",
       "      <td>1</td>\n",
       "    </tr>\n",
       "  </tbody>\n",
       "</table>\n",
       "</div>"
      ],
      "text/plain": [
       "        RI     Na    Mg    Al     Si     K    Ca   Ba   Fe  Type\n",
       "0  1.52101  13.64  4.49  1.10  71.78  0.06  8.75  0.0  0.0     1\n",
       "1  1.51761  13.89  3.60  1.36  72.73  0.48  7.83  0.0  0.0     1\n",
       "2  1.51618  13.53  3.55  1.54  72.99  0.39  7.78  0.0  0.0     1\n",
       "3  1.51766  13.21  3.69  1.29  72.61  0.57  8.22  0.0  0.0     1\n",
       "4  1.51742  13.27  3.62  1.24  73.08  0.55  8.07  0.0  0.0     1"
      ]
     },
     "execution_count": 5,
     "metadata": {},
     "output_type": "execute_result"
    }
   ],
   "source": [
    "df = pd.read_csv('glass.csv')\n",
    "df.head()"
   ]
  },
  {
   "cell_type": "markdown",
   "id": "d380cd0b-9285-4a9d-adca-e0c433144247",
   "metadata": {},
   "source": [
    "### EDA"
   ]
  },
  {
   "cell_type": "code",
   "execution_count": 6,
   "id": "f95df560-c8f1-4f4b-8272-a8fae78dd982",
   "metadata": {},
   "outputs": [
    {
     "name": "stdout",
     "output_type": "stream",
     "text": [
      "<class 'pandas.core.frame.DataFrame'>\n",
      "RangeIndex: 214 entries, 0 to 213\n",
      "Data columns (total 10 columns):\n",
      " #   Column  Non-Null Count  Dtype  \n",
      "---  ------  --------------  -----  \n",
      " 0   RI      214 non-null    float64\n",
      " 1   Na      214 non-null    float64\n",
      " 2   Mg      214 non-null    float64\n",
      " 3   Al      214 non-null    float64\n",
      " 4   Si      214 non-null    float64\n",
      " 5   K       214 non-null    float64\n",
      " 6   Ca      214 non-null    float64\n",
      " 7   Ba      214 non-null    float64\n",
      " 8   Fe      214 non-null    float64\n",
      " 9   Type    214 non-null    int64  \n",
      "dtypes: float64(9), int64(1)\n",
      "memory usage: 16.8 KB\n"
     ]
    }
   ],
   "source": [
    "df.info()"
   ]
  },
  {
   "cell_type": "code",
   "execution_count": 7,
   "id": "2e7eb393-4b53-44a2-bec7-5ba1284c74b1",
   "metadata": {},
   "outputs": [
    {
     "data": {
      "text/plain": [
       "RI      0\n",
       "Na      0\n",
       "Mg      0\n",
       "Al      0\n",
       "Si      0\n",
       "K       0\n",
       "Ca      0\n",
       "Ba      0\n",
       "Fe      0\n",
       "Type    0\n",
       "dtype: int64"
      ]
     },
     "execution_count": 7,
     "metadata": {},
     "output_type": "execute_result"
    }
   ],
   "source": [
    "df.isna().sum()"
   ]
  },
  {
   "cell_type": "code",
   "execution_count": 8,
   "id": "bbcba7c7-cac4-407c-bb99-fff75b6115ea",
   "metadata": {},
   "outputs": [
    {
     "data": {
      "text/plain": [
       "Type\n",
       "2    76\n",
       "1    70\n",
       "7    29\n",
       "3    17\n",
       "5    13\n",
       "6     9\n",
       "Name: count, dtype: int64"
      ]
     },
     "execution_count": 8,
     "metadata": {},
     "output_type": "execute_result"
    }
   ],
   "source": [
    "df['Type'].value_counts()"
   ]
  },
  {
   "cell_type": "code",
   "execution_count": 9,
   "id": "5444140a-d05a-46e9-866d-c7030f1cebfe",
   "metadata": {},
   "outputs": [],
   "source": [
    "from sklearn.preprocessing import LabelEncoder\n",
    "\n",
    "df['Type'] = LabelEncoder().fit_transform(df['Type'])"
   ]
  },
  {
   "cell_type": "code",
   "execution_count": 10,
   "id": "a29807a3-0e1a-44e2-98d2-4c57db754885",
   "metadata": {},
   "outputs": [
    {
     "data": {
      "text/plain": [
       "Type\n",
       "1    76\n",
       "0    70\n",
       "5    29\n",
       "2    17\n",
       "3    13\n",
       "4     9\n",
       "Name: count, dtype: int64"
      ]
     },
     "execution_count": 10,
     "metadata": {},
     "output_type": "execute_result"
    }
   ],
   "source": [
    "df['Type'].value_counts()"
   ]
  },
  {
   "cell_type": "code",
   "execution_count": 11,
   "id": "241b0881-dbbf-4f09-9f48-bb52c368ff8e",
   "metadata": {},
   "outputs": [
    {
     "data": {
      "text/html": [
       "<div>\n",
       "<style scoped>\n",
       "    .dataframe tbody tr th:only-of-type {\n",
       "        vertical-align: middle;\n",
       "    }\n",
       "\n",
       "    .dataframe tbody tr th {\n",
       "        vertical-align: top;\n",
       "    }\n",
       "\n",
       "    .dataframe thead th {\n",
       "        text-align: right;\n",
       "    }\n",
       "</style>\n",
       "<table border=\"1\" class=\"dataframe\">\n",
       "  <thead>\n",
       "    <tr style=\"text-align: right;\">\n",
       "      <th></th>\n",
       "      <th>RI</th>\n",
       "      <th>Na</th>\n",
       "      <th>Mg</th>\n",
       "      <th>Al</th>\n",
       "      <th>Si</th>\n",
       "      <th>K</th>\n",
       "      <th>Ca</th>\n",
       "      <th>Ba</th>\n",
       "      <th>Fe</th>\n",
       "      <th>Type</th>\n",
       "    </tr>\n",
       "  </thead>\n",
       "  <tbody>\n",
       "    <tr>\n",
       "      <th>RI</th>\n",
       "      <td>1.000000</td>\n",
       "      <td>-0.191885</td>\n",
       "      <td>-0.122274</td>\n",
       "      <td>-0.407326</td>\n",
       "      <td>-0.542052</td>\n",
       "      <td>-0.289833</td>\n",
       "      <td>0.810403</td>\n",
       "      <td>-0.000386</td>\n",
       "      <td>0.143010</td>\n",
       "      <td>-0.168739</td>\n",
       "    </tr>\n",
       "    <tr>\n",
       "      <th>Na</th>\n",
       "      <td>-0.191885</td>\n",
       "      <td>1.000000</td>\n",
       "      <td>-0.273732</td>\n",
       "      <td>0.156794</td>\n",
       "      <td>-0.069809</td>\n",
       "      <td>-0.266087</td>\n",
       "      <td>-0.275442</td>\n",
       "      <td>0.326603</td>\n",
       "      <td>-0.241346</td>\n",
       "      <td>0.506424</td>\n",
       "    </tr>\n",
       "    <tr>\n",
       "      <th>Mg</th>\n",
       "      <td>-0.122274</td>\n",
       "      <td>-0.273732</td>\n",
       "      <td>1.000000</td>\n",
       "      <td>-0.481799</td>\n",
       "      <td>-0.165927</td>\n",
       "      <td>0.005396</td>\n",
       "      <td>-0.443750</td>\n",
       "      <td>-0.492262</td>\n",
       "      <td>0.083060</td>\n",
       "      <td>-0.728160</td>\n",
       "    </tr>\n",
       "    <tr>\n",
       "      <th>Al</th>\n",
       "      <td>-0.407326</td>\n",
       "      <td>0.156794</td>\n",
       "      <td>-0.481799</td>\n",
       "      <td>1.000000</td>\n",
       "      <td>-0.005524</td>\n",
       "      <td>0.325958</td>\n",
       "      <td>-0.259592</td>\n",
       "      <td>0.479404</td>\n",
       "      <td>-0.074402</td>\n",
       "      <td>0.591198</td>\n",
       "    </tr>\n",
       "    <tr>\n",
       "      <th>Si</th>\n",
       "      <td>-0.542052</td>\n",
       "      <td>-0.069809</td>\n",
       "      <td>-0.165927</td>\n",
       "      <td>-0.005524</td>\n",
       "      <td>1.000000</td>\n",
       "      <td>-0.193331</td>\n",
       "      <td>-0.208732</td>\n",
       "      <td>-0.102151</td>\n",
       "      <td>-0.094201</td>\n",
       "      <td>0.149691</td>\n",
       "    </tr>\n",
       "    <tr>\n",
       "      <th>K</th>\n",
       "      <td>-0.289833</td>\n",
       "      <td>-0.266087</td>\n",
       "      <td>0.005396</td>\n",
       "      <td>0.325958</td>\n",
       "      <td>-0.193331</td>\n",
       "      <td>1.000000</td>\n",
       "      <td>-0.317836</td>\n",
       "      <td>-0.042618</td>\n",
       "      <td>-0.007719</td>\n",
       "      <td>-0.025835</td>\n",
       "    </tr>\n",
       "    <tr>\n",
       "      <th>Ca</th>\n",
       "      <td>0.810403</td>\n",
       "      <td>-0.275442</td>\n",
       "      <td>-0.443750</td>\n",
       "      <td>-0.259592</td>\n",
       "      <td>-0.208732</td>\n",
       "      <td>-0.317836</td>\n",
       "      <td>1.000000</td>\n",
       "      <td>-0.112841</td>\n",
       "      <td>0.124968</td>\n",
       "      <td>-0.008998</td>\n",
       "    </tr>\n",
       "    <tr>\n",
       "      <th>Ba</th>\n",
       "      <td>-0.000386</td>\n",
       "      <td>0.326603</td>\n",
       "      <td>-0.492262</td>\n",
       "      <td>0.479404</td>\n",
       "      <td>-0.102151</td>\n",
       "      <td>-0.042618</td>\n",
       "      <td>-0.112841</td>\n",
       "      <td>1.000000</td>\n",
       "      <td>-0.058692</td>\n",
       "      <td>0.577676</td>\n",
       "    </tr>\n",
       "    <tr>\n",
       "      <th>Fe</th>\n",
       "      <td>0.143010</td>\n",
       "      <td>-0.241346</td>\n",
       "      <td>0.083060</td>\n",
       "      <td>-0.074402</td>\n",
       "      <td>-0.094201</td>\n",
       "      <td>-0.007719</td>\n",
       "      <td>0.124968</td>\n",
       "      <td>-0.058692</td>\n",
       "      <td>1.000000</td>\n",
       "      <td>-0.183207</td>\n",
       "    </tr>\n",
       "    <tr>\n",
       "      <th>Type</th>\n",
       "      <td>-0.168739</td>\n",
       "      <td>0.506424</td>\n",
       "      <td>-0.728160</td>\n",
       "      <td>0.591198</td>\n",
       "      <td>0.149691</td>\n",
       "      <td>-0.025835</td>\n",
       "      <td>-0.008998</td>\n",
       "      <td>0.577676</td>\n",
       "      <td>-0.183207</td>\n",
       "      <td>1.000000</td>\n",
       "    </tr>\n",
       "  </tbody>\n",
       "</table>\n",
       "</div>"
      ],
      "text/plain": [
       "            RI        Na        Mg        Al        Si         K        Ca  \\\n",
       "RI    1.000000 -0.191885 -0.122274 -0.407326 -0.542052 -0.289833  0.810403   \n",
       "Na   -0.191885  1.000000 -0.273732  0.156794 -0.069809 -0.266087 -0.275442   \n",
       "Mg   -0.122274 -0.273732  1.000000 -0.481799 -0.165927  0.005396 -0.443750   \n",
       "Al   -0.407326  0.156794 -0.481799  1.000000 -0.005524  0.325958 -0.259592   \n",
       "Si   -0.542052 -0.069809 -0.165927 -0.005524  1.000000 -0.193331 -0.208732   \n",
       "K    -0.289833 -0.266087  0.005396  0.325958 -0.193331  1.000000 -0.317836   \n",
       "Ca    0.810403 -0.275442 -0.443750 -0.259592 -0.208732 -0.317836  1.000000   \n",
       "Ba   -0.000386  0.326603 -0.492262  0.479404 -0.102151 -0.042618 -0.112841   \n",
       "Fe    0.143010 -0.241346  0.083060 -0.074402 -0.094201 -0.007719  0.124968   \n",
       "Type -0.168739  0.506424 -0.728160  0.591198  0.149691 -0.025835 -0.008998   \n",
       "\n",
       "            Ba        Fe      Type  \n",
       "RI   -0.000386  0.143010 -0.168739  \n",
       "Na    0.326603 -0.241346  0.506424  \n",
       "Mg   -0.492262  0.083060 -0.728160  \n",
       "Al    0.479404 -0.074402  0.591198  \n",
       "Si   -0.102151 -0.094201  0.149691  \n",
       "K    -0.042618 -0.007719 -0.025835  \n",
       "Ca   -0.112841  0.124968 -0.008998  \n",
       "Ba    1.000000 -0.058692  0.577676  \n",
       "Fe   -0.058692  1.000000 -0.183207  \n",
       "Type  0.577676 -0.183207  1.000000  "
      ]
     },
     "execution_count": 11,
     "metadata": {},
     "output_type": "execute_result"
    }
   ],
   "source": [
    "df.corr()"
   ]
  },
  {
   "cell_type": "markdown",
   "id": "48bf58c6-6c8b-43d1-913c-c4cd7be71b8c",
   "metadata": {},
   "source": [
    "### pre-processing"
   ]
  },
  {
   "cell_type": "code",
   "execution_count": 12,
   "id": "483af4ce-5dee-479f-bc95-737f31ac9cd1",
   "metadata": {},
   "outputs": [],
   "source": [
    "# split data into x and y\n",
    "x = df[['Na','Mg','Al','Ba']]\n",
    "y = df['Type']"
   ]
  },
  {
   "cell_type": "code",
   "execution_count": 13,
   "id": "658798e1-b3a8-44b8-bd19-6752de63538a",
   "metadata": {},
   "outputs": [],
   "source": [
    "# split the data into train and test\n",
    "from sklearn.model_selection import train_test_split\n",
    "\n",
    "x_train, x_test, y_train, y_test = train_test_split(x, y, train_size=0.7, random_state=123456)"
   ]
  },
  {
   "cell_type": "markdown",
   "id": "88a4966c-2530-4ba8-b19f-789c5b664237",
   "metadata": {},
   "source": [
    "### train the models"
   ]
  },
  {
   "cell_type": "markdown",
   "id": "38d3df32-938e-4de9-a671-9fe8d8b73527",
   "metadata": {},
   "source": [
    "#### Decision Tree"
   ]
  },
  {
   "cell_type": "code",
   "execution_count": 14,
   "id": "e0f342b7-974a-4407-8a62-bce4390b1463",
   "metadata": {},
   "outputs": [],
   "source": [
    "from sklearn.tree import DecisionTreeClassifier\n",
    "\n",
    "def create_model_decision_tree():\n",
    "    model = DecisionTreeClassifier(max_depth=50)\n",
    "    model.fit(x_train, y_train)\n",
    "    return model    "
   ]
  },
  {
   "cell_type": "markdown",
   "id": "34583bc9-0c06-470c-bff7-5020f2f1cfc3",
   "metadata": {},
   "source": [
    "#### Random Forest"
   ]
  },
  {
   "cell_type": "code",
   "execution_count": 15,
   "id": "1904f37e-ad36-4013-85a3-cfbeb97b3229",
   "metadata": {},
   "outputs": [],
   "source": [
    "from sklearn.ensemble import RandomForestClassifier\n",
    "\n",
    "def create_model_random_forest():\n",
    "    model = RandomForestClassifier(n_estimators=100)\n",
    "    model.fit(x_train, y_train)\n",
    "    return model"
   ]
  },
  {
   "cell_type": "markdown",
   "id": "1cc54552-9f33-413b-b33b-d43c886b1148",
   "metadata": {},
   "source": [
    "#### CAT Boost"
   ]
  },
  {
   "cell_type": "code",
   "execution_count": 16,
   "id": "13ed3b20-6a01-41a0-b645-6f24aab8a320",
   "metadata": {},
   "outputs": [],
   "source": [
    "from catboost import CatBoostClassifier\n",
    "\n",
    "def create_model_catboost():\n",
    "    model = CatBoostClassifier(logging_level='Silent')\n",
    "    model.fit(x_train, y_train)\n",
    "    return model"
   ]
  },
  {
   "cell_type": "markdown",
   "id": "e5c7d98a-7d4b-4035-a332-08d1a96bfd99",
   "metadata": {},
   "source": [
    "#### AdaBoost"
   ]
  },
  {
   "cell_type": "code",
   "execution_count": 17,
   "id": "0afbcbeb-7f78-4cac-8f27-4e2d2faffcf2",
   "metadata": {},
   "outputs": [],
   "source": [
    "from sklearn.ensemble import AdaBoostClassifier\n",
    "\n",
    "def create_model_ada_boost():\n",
    "    model = AdaBoostClassifier()\n",
    "    model.fit(x_train, y_train)\n",
    "    return model"
   ]
  },
  {
   "cell_type": "markdown",
   "id": "14fc7494-a775-41cc-9211-fe5b85852296",
   "metadata": {},
   "source": [
    "#### XGBoost"
   ]
  },
  {
   "cell_type": "code",
   "execution_count": 18,
   "id": "6ab11c91-3896-4054-919a-5f19495e80b9",
   "metadata": {},
   "outputs": [],
   "source": [
    "from xgboost import XGBClassifier\n",
    "\n",
    "def create_model_xgboost():\n",
    "    model = XGBClassifier()\n",
    "    model.fit(x_train, y_train)\n",
    "    return model"
   ]
  },
  {
   "cell_type": "markdown",
   "id": "7d2fe70d-af30-42cd-a4b3-cf0288453276",
   "metadata": {},
   "source": [
    "### model evaluation"
   ]
  },
  {
   "cell_type": "code",
   "execution_count": 22,
   "id": "3cd6944b-49f5-4c51-ad72-8a01629b6165",
   "metadata": {},
   "outputs": [],
   "source": [
    "from sklearn.metrics import confusion_matrix,accuracy_score, precision_score, recall_score, f1_score\n",
    "\n",
    "def evaluate_model(model):\n",
    "    # training accuracry\n",
    "    y_pred = model.predict(x_train)\n",
    "    y_true = y_train\n",
    "\n",
    "    print(confusion_matrix(y_true, y_pred))\n",
    "\n",
    "    # calculate training accuracy\n",
    "    training_accuracy = accuracy_score(y_true, y_pred)\n",
    "\n",
    "    # testing accuracy\n",
    "    y_pred = model.predict(x_test)\n",
    "    y_true = y_test\n",
    "\n",
    "    print(confusion_matrix(y_true, y_pred))\n",
    "\n",
    "    # get the performance metrics for testing\n",
    "    testing_accuracy = accuracy_score(y_true, y_pred)\n",
    "    testing_precision = precision_score(y_true, y_pred,average='micro')\n",
    "    testing_recall = recall_score(y_true, y_pred,average='micro')\n",
    "    testing_f1 = f1_score(y_true, y_pred,average='micro')\n",
    "\n",
    "    return training_accuracy, testing_accuracy, testing_precision, testing_recall, testing_f1"
   ]
  },
  {
   "cell_type": "markdown",
   "id": "82318e6d-f1c9-496f-ae83-fe823f09fc3f",
   "metadata": {},
   "source": [
    "### generate performance chart"
   ]
  },
  {
   "cell_type": "code",
   "execution_count": 23,
   "id": "433bbf50-5599-4390-a46d-8a3cea776493",
   "metadata": {},
   "outputs": [],
   "source": [
    "models = [\n",
    "    (\"Decision Tree\", create_model_decision_tree(), (0, 0)),\n",
    "    (\"Random Forest\", create_model_random_forest(), (0, 1)),\n",
    "    (\"CAT Boost\", create_model_catboost(), (1, 0)),\n",
    "    (\"Ada Boost\", create_model_ada_boost(), (1, 1)),\n",
    "    (\"XGBoost\", create_model_xgboost(), (2, 0))\n",
    "]"
   ]
  },
  {
   "cell_type": "code",
   "execution_count": 24,
   "id": "3321bf25-2779-4ac5-a95e-e9a4a43d50bf",
   "metadata": {},
   "outputs": [
    {
     "name": "stdout",
     "output_type": "stream",
     "text": [
      "[[52  0  0  0  0  0]\n",
      " [ 0 53  0  0  0  0]\n",
      " [ 0  0 11  0  0  0]\n",
      " [ 0  0  0  8  0  0]\n",
      " [ 0  0  0  0  7  0]\n",
      " [ 0  0  0  0  0 18]]\n",
      "[[15  2  1  0  0  0]\n",
      " [ 4 14  1  2  1  1]\n",
      " [ 5  0  1  0  0  0]\n",
      " [ 0  0  0  5  0  0]\n",
      " [ 0  0  0  0  1  1]\n",
      " [ 1  1  0  0  0  9]]\n",
      "[[52  0  0  0  0  0]\n",
      " [ 0 53  0  0  0  0]\n",
      " [ 0  0 11  0  0  0]\n",
      " [ 0  0  0  8  0  0]\n",
      " [ 0  0  0  0  7  0]\n",
      " [ 0  0  0  0  0 18]]\n",
      "[[16  2  0  0  0  0]\n",
      " [ 6 13  0  2  1  1]\n",
      " [ 6  0  0  0  0  0]\n",
      " [ 0  0  0  5  0  0]\n",
      " [ 0  0  0  0  2  0]\n",
      " [ 1  1  0  0  0  9]]\n",
      "[[52  0  0  0  0  0]\n",
      " [ 0 53  0  0  0  0]\n",
      " [ 0  0 11  0  0  0]\n",
      " [ 0  0  0  8  0  0]\n",
      " [ 0  0  0  0  7  0]\n",
      " [ 0  0  0  0  0 18]]\n",
      "[[16  2  0  0  0  0]\n",
      " [ 5 13  1  2  1  1]\n",
      " [ 6  0  0  0  0  0]\n",
      " [ 0  0  0  5  0  0]\n",
      " [ 0  0  0  0  1  1]\n",
      " [ 1  1  0  0  0  9]]\n",
      "[[47  5  0  0  0  0]\n",
      " [36 16  0  0  1  0]\n",
      " [11  0  0  0  0  0]\n",
      " [ 0  5  0  3  0  0]\n",
      " [ 0  0  0  0  7  0]\n",
      " [ 0  0  0  0  1 17]]\n",
      "[[18  0  0  0  0  0]\n",
      " [16  5  0  1  1  0]\n",
      " [ 6  0  0  0  0  0]\n",
      " [ 0  5  0  0  0  0]\n",
      " [ 0  0  0  0  2  0]\n",
      " [ 1  1  0  0  0  9]]\n",
      "[[52  0  0  0  0  0]\n",
      " [ 0 53  0  0  0  0]\n",
      " [ 0  0 11  0  0  0]\n",
      " [ 0  0  0  8  0  0]\n",
      " [ 0  0  0  0  7  0]\n",
      " [ 0  0  0  0  0 18]]\n",
      "[[14  3  1  0  0  0]\n",
      " [ 5 12  2  3  1  0]\n",
      " [ 5  0  1  0  0  0]\n",
      " [ 0  0  0  5  0  0]\n",
      " [ 0  0  0  0  2  0]\n",
      " [ 1  1  0  0  0  9]]\n"
     ]
    },
    {
     "data": {
      "text/html": [
       "<div>\n",
       "<style scoped>\n",
       "    .dataframe tbody tr th:only-of-type {\n",
       "        vertical-align: middle;\n",
       "    }\n",
       "\n",
       "    .dataframe tbody tr th {\n",
       "        vertical-align: top;\n",
       "    }\n",
       "\n",
       "    .dataframe thead th {\n",
       "        text-align: right;\n",
       "    }\n",
       "</style>\n",
       "<table border=\"1\" class=\"dataframe\">\n",
       "  <thead>\n",
       "    <tr style=\"text-align: right;\">\n",
       "      <th></th>\n",
       "      <th>Model</th>\n",
       "      <th>Train Accuracy</th>\n",
       "      <th>Test Accuracy</th>\n",
       "      <th>Precision</th>\n",
       "      <th>Recall</th>\n",
       "      <th>F1</th>\n",
       "    </tr>\n",
       "  </thead>\n",
       "  <tbody>\n",
       "    <tr>\n",
       "      <th>0</th>\n",
       "      <td>Decision Tree</td>\n",
       "      <td>100.00%</td>\n",
       "      <td>69.23%</td>\n",
       "      <td>0.692308</td>\n",
       "      <td>0.692308</td>\n",
       "      <td>0.692308</td>\n",
       "    </tr>\n",
       "    <tr>\n",
       "      <th>1</th>\n",
       "      <td>Random Forest</td>\n",
       "      <td>100.00%</td>\n",
       "      <td>69.23%</td>\n",
       "      <td>0.692308</td>\n",
       "      <td>0.692308</td>\n",
       "      <td>0.692308</td>\n",
       "    </tr>\n",
       "    <tr>\n",
       "      <th>2</th>\n",
       "      <td>CAT Boost</td>\n",
       "      <td>100.00%</td>\n",
       "      <td>67.69%</td>\n",
       "      <td>0.676923</td>\n",
       "      <td>0.676923</td>\n",
       "      <td>0.676923</td>\n",
       "    </tr>\n",
       "    <tr>\n",
       "      <th>3</th>\n",
       "      <td>Ada Boost</td>\n",
       "      <td>60.40%</td>\n",
       "      <td>52.31%</td>\n",
       "      <td>0.523077</td>\n",
       "      <td>0.523077</td>\n",
       "      <td>0.523077</td>\n",
       "    </tr>\n",
       "    <tr>\n",
       "      <th>4</th>\n",
       "      <td>XGBoost</td>\n",
       "      <td>100.00%</td>\n",
       "      <td>66.15%</td>\n",
       "      <td>0.661538</td>\n",
       "      <td>0.661538</td>\n",
       "      <td>0.661538</td>\n",
       "    </tr>\n",
       "  </tbody>\n",
       "</table>\n",
       "</div>"
      ],
      "text/plain": [
       "           Model Train Accuracy Test Accuracy  Precision    Recall        F1\n",
       "0  Decision Tree        100.00%        69.23%   0.692308  0.692308  0.692308\n",
       "1  Random Forest        100.00%        69.23%   0.692308  0.692308  0.692308\n",
       "2      CAT Boost        100.00%        67.69%   0.676923  0.676923  0.676923\n",
       "3      Ada Boost         60.40%        52.31%   0.523077  0.523077  0.523077\n",
       "4        XGBoost        100.00%        66.15%   0.661538  0.661538  0.661538"
      ]
     },
     "execution_count": 24,
     "metadata": {},
     "output_type": "execute_result"
    }
   ],
   "source": [
    "performance_data = []\n",
    "for model_name, model, position in models:\n",
    "    train_accuracy, test_accuracy, precision, recall, f1 = evaluate_model(model)\n",
    "    performance_data.append([\n",
    "        model_name, f\"{train_accuracy * 100:0.2f}%\", f\"{test_accuracy * 100:0.2f}%\", precision, recall, f1\n",
    "    ])\n",
    "    \n",
    "performance_chart = pd.DataFrame(performance_data, \n",
    "            columns=[\"Model\", \"Train Accuracy\", \"Test Accuracy\", \"Precision\", \"Recall\", \"F1\"])\n",
    "performance_chart"
   ]
  },
  {
   "cell_type": "code",
   "execution_count": null,
   "id": "3e4543be-9c36-4622-9a90-21bb726088e8",
   "metadata": {},
   "outputs": [],
   "source": []
  }
 ],
 "metadata": {
  "kernelspec": {
   "display_name": "Python 3 (ipykernel)",
   "language": "python",
   "name": "python3"
  },
  "language_info": {
   "codemirror_mode": {
    "name": "ipython",
    "version": 3
   },
   "file_extension": ".py",
   "mimetype": "text/x-python",
   "name": "python",
   "nbconvert_exporter": "python",
   "pygments_lexer": "ipython3",
   "version": "3.12.5"
  }
 },
 "nbformat": 4,
 "nbformat_minor": 5
}
