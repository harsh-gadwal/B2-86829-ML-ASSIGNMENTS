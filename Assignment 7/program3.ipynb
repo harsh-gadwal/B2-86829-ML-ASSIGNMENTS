{
 "cells": [
  {
   "cell_type": "markdown",
   "id": "b6056408-11bb-421d-a75e-a85e8e87ae93",
   "metadata": {},
   "source": [
    "Que3.-\n",
    "In this dataset you have to predict that whether we have to give ATTORNEY to the clients or not (0=Yes, 1=No) based on below factors.\n",
    "CLMAGE - Age of Client\n",
    "CLMSEX - Sex of client (0=Male, 1= Female)\n",
    "SEATBELT - Whether client has Seatbelt or not (0=Yes, 1=No)\n",
    "CLMINSUR - Whether Client give Insurance or not (0=Yes, 1=No)\n",
    "LOSS - Loss that client faced\n",
    "\n",
    "Prepare model by using Decision Tree, Random Forest , AdaBoost, CatBoost, XGBoost & Calculate Accuracy by confusion matrix, Calculate accuracy score, precision score, recall score, f1 score.\n",
    "\n",
    "Dataset : Claimants.csv"
   ]
  },
  {
   "cell_type": "markdown",
   "id": "b46c1baf-6798-4a05-b495-dcfd8e5204d2",
   "metadata": {},
   "source": [
    "### pre-requisites"
   ]
  },
  {
   "cell_type": "code",
   "execution_count": 1,
   "id": "95a6267a-d0da-4eb3-99b0-6d80fc3f24b7",
   "metadata": {},
   "outputs": [],
   "source": [
    "import warnings\n",
    "warnings.filterwarnings(action=\"ignore\")"
   ]
  },
  {
   "cell_type": "markdown",
   "id": "e189ff9a-50e5-4ff0-99b2-5f43b361733a",
   "metadata": {},
   "source": [
    "### import required packages"
   ]
  },
  {
   "cell_type": "code",
   "execution_count": 2,
   "id": "3de45dc7-b79a-4577-8083-9c9358e6eafc",
   "metadata": {},
   "outputs": [],
   "source": [
    "import numpy as np\n",
    "import pandas as pd\n",
    "import matplotlib.pyplot as plt\n",
    "import seaborn as sns"
   ]
  },
  {
   "cell_type": "markdown",
   "id": "0d30f82b-245d-492a-a616-a8c84b142429",
   "metadata": {},
   "source": [
    "### load the data"
   ]
  },
  {
   "cell_type": "code",
   "execution_count": 3,
   "id": "fb9a8f5e-a929-4c15-8283-4bd9f18ffcb8",
   "metadata": {},
   "outputs": [
    {
     "data": {
      "text/html": [
       "<div>\n",
       "<style scoped>\n",
       "    .dataframe tbody tr th:only-of-type {\n",
       "        vertical-align: middle;\n",
       "    }\n",
       "\n",
       "    .dataframe tbody tr th {\n",
       "        vertical-align: top;\n",
       "    }\n",
       "\n",
       "    .dataframe thead th {\n",
       "        text-align: right;\n",
       "    }\n",
       "</style>\n",
       "<table border=\"1\" class=\"dataframe\">\n",
       "  <thead>\n",
       "    <tr style=\"text-align: right;\">\n",
       "      <th></th>\n",
       "      <th>ATTORNEY</th>\n",
       "      <th>CLMSEX</th>\n",
       "      <th>CLMINSUR</th>\n",
       "      <th>SEATBELT</th>\n",
       "      <th>CLMAGE</th>\n",
       "      <th>LOSS</th>\n",
       "    </tr>\n",
       "  </thead>\n",
       "  <tbody>\n",
       "    <tr>\n",
       "      <th>0</th>\n",
       "      <td>0</td>\n",
       "      <td>0.0</td>\n",
       "      <td>1.0</td>\n",
       "      <td>0.0</td>\n",
       "      <td>50.0</td>\n",
       "      <td>34.940</td>\n",
       "    </tr>\n",
       "    <tr>\n",
       "      <th>1</th>\n",
       "      <td>1</td>\n",
       "      <td>1.0</td>\n",
       "      <td>0.0</td>\n",
       "      <td>0.0</td>\n",
       "      <td>18.0</td>\n",
       "      <td>0.891</td>\n",
       "    </tr>\n",
       "    <tr>\n",
       "      <th>2</th>\n",
       "      <td>1</td>\n",
       "      <td>0.0</td>\n",
       "      <td>1.0</td>\n",
       "      <td>0.0</td>\n",
       "      <td>5.0</td>\n",
       "      <td>0.330</td>\n",
       "    </tr>\n",
       "    <tr>\n",
       "      <th>3</th>\n",
       "      <td>0</td>\n",
       "      <td>0.0</td>\n",
       "      <td>1.0</td>\n",
       "      <td>1.0</td>\n",
       "      <td>31.0</td>\n",
       "      <td>0.037</td>\n",
       "    </tr>\n",
       "    <tr>\n",
       "      <th>4</th>\n",
       "      <td>1</td>\n",
       "      <td>0.0</td>\n",
       "      <td>1.0</td>\n",
       "      <td>0.0</td>\n",
       "      <td>30.0</td>\n",
       "      <td>0.038</td>\n",
       "    </tr>\n",
       "  </tbody>\n",
       "</table>\n",
       "</div>"
      ],
      "text/plain": [
       "   ATTORNEY  CLMSEX  CLMINSUR  SEATBELT  CLMAGE    LOSS\n",
       "0         0     0.0       1.0       0.0    50.0  34.940\n",
       "1         1     1.0       0.0       0.0    18.0   0.891\n",
       "2         1     0.0       1.0       0.0     5.0   0.330\n",
       "3         0     0.0       1.0       1.0    31.0   0.037\n",
       "4         1     0.0       1.0       0.0    30.0   0.038"
      ]
     },
     "execution_count": 3,
     "metadata": {},
     "output_type": "execute_result"
    }
   ],
   "source": [
    "df = pd.read_csv('claimants.csv')\n",
    "df.head()"
   ]
  },
  {
   "cell_type": "markdown",
   "id": "d380cd0b-9285-4a9d-adca-e0c433144247",
   "metadata": {},
   "source": [
    "### EDA"
   ]
  },
  {
   "cell_type": "code",
   "execution_count": 4,
   "id": "f95df560-c8f1-4f4b-8272-a8fae78dd982",
   "metadata": {},
   "outputs": [
    {
     "name": "stdout",
     "output_type": "stream",
     "text": [
      "<class 'pandas.core.frame.DataFrame'>\n",
      "RangeIndex: 1340 entries, 0 to 1339\n",
      "Data columns (total 6 columns):\n",
      " #   Column    Non-Null Count  Dtype  \n",
      "---  ------    --------------  -----  \n",
      " 0   ATTORNEY  1340 non-null   int64  \n",
      " 1   CLMSEX    1328 non-null   float64\n",
      " 2   CLMINSUR  1299 non-null   float64\n",
      " 3   SEATBELT  1292 non-null   float64\n",
      " 4   CLMAGE    1151 non-null   float64\n",
      " 5   LOSS      1340 non-null   float64\n",
      "dtypes: float64(5), int64(1)\n",
      "memory usage: 62.9 KB\n"
     ]
    }
   ],
   "source": [
    "df.info()"
   ]
  },
  {
   "cell_type": "code",
   "execution_count": 5,
   "id": "2e7eb393-4b53-44a2-bec7-5ba1284c74b1",
   "metadata": {},
   "outputs": [
    {
     "data": {
      "text/plain": [
       "ATTORNEY      0\n",
       "CLMSEX       12\n",
       "CLMINSUR     41\n",
       "SEATBELT     48\n",
       "CLMAGE      189\n",
       "LOSS          0\n",
       "dtype: int64"
      ]
     },
     "execution_count": 5,
     "metadata": {},
     "output_type": "execute_result"
    }
   ],
   "source": [
    "df.isna().sum()"
   ]
  },
  {
   "cell_type": "code",
   "execution_count": 7,
   "id": "b441962a-8e54-476a-948e-c89dda28508a",
   "metadata": {},
   "outputs": [],
   "source": [
    "df['CLMAGE'] = df['CLMAGE'].fillna(df['CLMAGE'].mean())\n",
    "l = ['CLMSEX','CLMINSUR','SEATBELT']\n",
    "for i in l:\n",
    "    df[i] = df[i].fillna(df[i].mode()[0])"
   ]
  },
  {
   "cell_type": "code",
   "execution_count": 8,
   "id": "ff2368d9-a076-4351-94c6-e44be63f1451",
   "metadata": {},
   "outputs": [
    {
     "data": {
      "text/plain": [
       "ATTORNEY    0\n",
       "CLMSEX      0\n",
       "CLMINSUR    0\n",
       "SEATBELT    0\n",
       "CLMAGE      0\n",
       "LOSS        0\n",
       "dtype: int64"
      ]
     },
     "execution_count": 8,
     "metadata": {},
     "output_type": "execute_result"
    }
   ],
   "source": [
    "df.isna().sum()"
   ]
  },
  {
   "cell_type": "code",
   "execution_count": 10,
   "id": "bbcba7c7-cac4-407c-bb99-fff75b6115ea",
   "metadata": {},
   "outputs": [
    {
     "data": {
      "text/plain": [
       "ATTORNEY\n",
       "0    685\n",
       "1    655\n",
       "Name: count, dtype: int64"
      ]
     },
     "execution_count": 10,
     "metadata": {},
     "output_type": "execute_result"
    }
   ],
   "source": [
    "df['ATTORNEY'].value_counts()"
   ]
  },
  {
   "cell_type": "code",
   "execution_count": 11,
   "id": "241b0881-dbbf-4f09-9f48-bb52c368ff8e",
   "metadata": {},
   "outputs": [
    {
     "data": {
      "text/html": [
       "<div>\n",
       "<style scoped>\n",
       "    .dataframe tbody tr th:only-of-type {\n",
       "        vertical-align: middle;\n",
       "    }\n",
       "\n",
       "    .dataframe tbody tr th {\n",
       "        vertical-align: top;\n",
       "    }\n",
       "\n",
       "    .dataframe thead th {\n",
       "        text-align: right;\n",
       "    }\n",
       "</style>\n",
       "<table border=\"1\" class=\"dataframe\">\n",
       "  <thead>\n",
       "    <tr style=\"text-align: right;\">\n",
       "      <th></th>\n",
       "      <th>ATTORNEY</th>\n",
       "      <th>CLMSEX</th>\n",
       "      <th>CLMINSUR</th>\n",
       "      <th>SEATBELT</th>\n",
       "      <th>CLMAGE</th>\n",
       "      <th>LOSS</th>\n",
       "    </tr>\n",
       "  </thead>\n",
       "  <tbody>\n",
       "    <tr>\n",
       "      <th>ATTORNEY</th>\n",
       "      <td>1.000000</td>\n",
       "      <td>0.076564</td>\n",
       "      <td>0.076631</td>\n",
       "      <td>-0.055848</td>\n",
       "      <td>0.009886</td>\n",
       "      <td>-0.219715</td>\n",
       "    </tr>\n",
       "    <tr>\n",
       "      <th>CLMSEX</th>\n",
       "      <td>0.076564</td>\n",
       "      <td>1.000000</td>\n",
       "      <td>0.065976</td>\n",
       "      <td>-0.016327</td>\n",
       "      <td>-0.022444</td>\n",
       "      <td>-0.028412</td>\n",
       "    </tr>\n",
       "    <tr>\n",
       "      <th>CLMINSUR</th>\n",
       "      <td>0.076631</td>\n",
       "      <td>0.065976</td>\n",
       "      <td>1.000000</td>\n",
       "      <td>0.019953</td>\n",
       "      <td>0.044706</td>\n",
       "      <td>0.004641</td>\n",
       "    </tr>\n",
       "    <tr>\n",
       "      <th>SEATBELT</th>\n",
       "      <td>-0.055848</td>\n",
       "      <td>-0.016327</td>\n",
       "      <td>0.019953</td>\n",
       "      <td>1.000000</td>\n",
       "      <td>-0.025379</td>\n",
       "      <td>0.111879</td>\n",
       "    </tr>\n",
       "    <tr>\n",
       "      <th>CLMAGE</th>\n",
       "      <td>0.009886</td>\n",
       "      <td>-0.022444</td>\n",
       "      <td>0.044706</td>\n",
       "      <td>-0.025379</td>\n",
       "      <td>1.000000</td>\n",
       "      <td>0.057641</td>\n",
       "    </tr>\n",
       "    <tr>\n",
       "      <th>LOSS</th>\n",
       "      <td>-0.219715</td>\n",
       "      <td>-0.028412</td>\n",
       "      <td>0.004641</td>\n",
       "      <td>0.111879</td>\n",
       "      <td>0.057641</td>\n",
       "      <td>1.000000</td>\n",
       "    </tr>\n",
       "  </tbody>\n",
       "</table>\n",
       "</div>"
      ],
      "text/plain": [
       "          ATTORNEY    CLMSEX  CLMINSUR  SEATBELT    CLMAGE      LOSS\n",
       "ATTORNEY  1.000000  0.076564  0.076631 -0.055848  0.009886 -0.219715\n",
       "CLMSEX    0.076564  1.000000  0.065976 -0.016327 -0.022444 -0.028412\n",
       "CLMINSUR  0.076631  0.065976  1.000000  0.019953  0.044706  0.004641\n",
       "SEATBELT -0.055848 -0.016327  0.019953  1.000000 -0.025379  0.111879\n",
       "CLMAGE    0.009886 -0.022444  0.044706 -0.025379  1.000000  0.057641\n",
       "LOSS     -0.219715 -0.028412  0.004641  0.111879  0.057641  1.000000"
      ]
     },
     "execution_count": 11,
     "metadata": {},
     "output_type": "execute_result"
    }
   ],
   "source": [
    "df.corr()"
   ]
  },
  {
   "cell_type": "markdown",
   "id": "48bf58c6-6c8b-43d1-913c-c4cd7be71b8c",
   "metadata": {},
   "source": [
    "### pre-processing"
   ]
  },
  {
   "cell_type": "code",
   "execution_count": 12,
   "id": "483af4ce-5dee-479f-bc95-737f31ac9cd1",
   "metadata": {},
   "outputs": [],
   "source": [
    "# split data into x and y\n",
    "x = df[['LOSS']]\n",
    "y = df['ATTORNEY']"
   ]
  },
  {
   "cell_type": "code",
   "execution_count": 13,
   "id": "658798e1-b3a8-44b8-bd19-6752de63538a",
   "metadata": {},
   "outputs": [],
   "source": [
    "# split the data into train and test\n",
    "from sklearn.model_selection import train_test_split\n",
    "\n",
    "x_train, x_test, y_train, y_test = train_test_split(x, y, train_size=0.7, random_state=123456)"
   ]
  },
  {
   "cell_type": "markdown",
   "id": "88a4966c-2530-4ba8-b19f-789c5b664237",
   "metadata": {},
   "source": [
    "### train the models"
   ]
  },
  {
   "cell_type": "markdown",
   "id": "38d3df32-938e-4de9-a671-9fe8d8b73527",
   "metadata": {},
   "source": [
    "#### Decision Tree"
   ]
  },
  {
   "cell_type": "code",
   "execution_count": 14,
   "id": "e0f342b7-974a-4407-8a62-bce4390b1463",
   "metadata": {},
   "outputs": [],
   "source": [
    "from sklearn.tree import DecisionTreeClassifier\n",
    "\n",
    "def create_model_decision_tree():\n",
    "    model = DecisionTreeClassifier(max_depth=50)\n",
    "    model.fit(x_train, y_train)\n",
    "    return model    "
   ]
  },
  {
   "cell_type": "markdown",
   "id": "34583bc9-0c06-470c-bff7-5020f2f1cfc3",
   "metadata": {},
   "source": [
    "#### Random Forest"
   ]
  },
  {
   "cell_type": "code",
   "execution_count": 15,
   "id": "1904f37e-ad36-4013-85a3-cfbeb97b3229",
   "metadata": {},
   "outputs": [],
   "source": [
    "from sklearn.ensemble import RandomForestClassifier\n",
    "\n",
    "def create_model_random_forest():\n",
    "    model = RandomForestClassifier(n_estimators=100)\n",
    "    model.fit(x_train, y_train)\n",
    "    return model"
   ]
  },
  {
   "cell_type": "markdown",
   "id": "1cc54552-9f33-413b-b33b-d43c886b1148",
   "metadata": {},
   "source": [
    "#### CAT Boost"
   ]
  },
  {
   "cell_type": "code",
   "execution_count": 16,
   "id": "13ed3b20-6a01-41a0-b645-6f24aab8a320",
   "metadata": {},
   "outputs": [],
   "source": [
    "from catboost import CatBoostClassifier\n",
    "\n",
    "def create_model_catboost():\n",
    "    model = CatBoostClassifier(logging_level='Silent')\n",
    "    model.fit(x_train, y_train)\n",
    "    return model"
   ]
  },
  {
   "cell_type": "markdown",
   "id": "e5c7d98a-7d4b-4035-a332-08d1a96bfd99",
   "metadata": {},
   "source": [
    "#### AdaBoost"
   ]
  },
  {
   "cell_type": "code",
   "execution_count": 17,
   "id": "0afbcbeb-7f78-4cac-8f27-4e2d2faffcf2",
   "metadata": {},
   "outputs": [],
   "source": [
    "from sklearn.ensemble import AdaBoostClassifier\n",
    "\n",
    "def create_model_ada_boost():\n",
    "    model = AdaBoostClassifier()\n",
    "    model.fit(x_train, y_train)\n",
    "    return model"
   ]
  },
  {
   "cell_type": "markdown",
   "id": "14fc7494-a775-41cc-9211-fe5b85852296",
   "metadata": {},
   "source": [
    "#### XGBoost"
   ]
  },
  {
   "cell_type": "code",
   "execution_count": 18,
   "id": "6ab11c91-3896-4054-919a-5f19495e80b9",
   "metadata": {},
   "outputs": [],
   "source": [
    "from xgboost import XGBClassifier\n",
    "\n",
    "def create_model_xgboost():\n",
    "    model = XGBClassifier()\n",
    "    model.fit(x_train, y_train)\n",
    "    return model"
   ]
  },
  {
   "cell_type": "markdown",
   "id": "7d2fe70d-af30-42cd-a4b3-cf0288453276",
   "metadata": {},
   "source": [
    "### model evaluation"
   ]
  },
  {
   "cell_type": "code",
   "execution_count": 19,
   "id": "3cd6944b-49f5-4c51-ad72-8a01629b6165",
   "metadata": {},
   "outputs": [],
   "source": [
    "from sklearn.metrics import confusion_matrix,accuracy_score, precision_score, recall_score, f1_score\n",
    "\n",
    "def evaluate_model(model):\n",
    "    # training accuracry\n",
    "    y_pred = model.predict(x_train)\n",
    "    y_true = y_train\n",
    "\n",
    "    # calculate training accuracy\n",
    "    training_accuracy = accuracy_score(y_true, y_pred)\n",
    "\n",
    "    # testing accuracy\n",
    "    y_pred = model.predict(x_test)\n",
    "    y_true = y_test\n",
    "\n",
    "    print(confusion_matrix(y_true, y_pred))\n",
    "\n",
    "    # get the performance metrics for testing\n",
    "    testing_accuracy = accuracy_score(y_true, y_pred)\n",
    "    testing_precision = precision_score(y_true, y_pred,average='micro')\n",
    "    testing_recall = recall_score(y_true, y_pred,average='micro')\n",
    "    testing_f1 = f1_score(y_true, y_pred,average='micro')\n",
    "\n",
    "    return training_accuracy, testing_accuracy, testing_precision, testing_recall, testing_f1"
   ]
  },
  {
   "cell_type": "markdown",
   "id": "82318e6d-f1c9-496f-ae83-fe823f09fc3f",
   "metadata": {},
   "source": [
    "### generate performance chart"
   ]
  },
  {
   "cell_type": "code",
   "execution_count": 20,
   "id": "433bbf50-5599-4390-a46d-8a3cea776493",
   "metadata": {},
   "outputs": [],
   "source": [
    "models = [\n",
    "    (\"Decision Tree\", create_model_decision_tree(), (0, 0)),\n",
    "    (\"Random Forest\", create_model_random_forest(), (0, 1)),\n",
    "    (\"CAT Boost\", create_model_catboost(), (1, 0)),\n",
    "    (\"Ada Boost\", create_model_ada_boost(), (1, 1)),\n",
    "    (\"XGBoost\", create_model_xgboost(), (2, 0))\n",
    "]"
   ]
  },
  {
   "cell_type": "code",
   "execution_count": 21,
   "id": "3321bf25-2779-4ac5-a95e-e9a4a43d50bf",
   "metadata": {},
   "outputs": [
    {
     "name": "stdout",
     "output_type": "stream",
     "text": [
      "[[135  72]\n",
      " [ 73 123]]\n",
      "[[133  74]\n",
      " [ 66 130]]\n",
      "[[155  52]\n",
      " [ 66 130]]\n",
      "[[155  52]\n",
      " [ 68 128]]\n",
      "[[150  57]\n",
      " [ 66 130]]\n"
     ]
    },
    {
     "data": {
      "text/html": [
       "<div>\n",
       "<style scoped>\n",
       "    .dataframe tbody tr th:only-of-type {\n",
       "        vertical-align: middle;\n",
       "    }\n",
       "\n",
       "    .dataframe tbody tr th {\n",
       "        vertical-align: top;\n",
       "    }\n",
       "\n",
       "    .dataframe thead th {\n",
       "        text-align: right;\n",
       "    }\n",
       "</style>\n",
       "<table border=\"1\" class=\"dataframe\">\n",
       "  <thead>\n",
       "    <tr style=\"text-align: right;\">\n",
       "      <th></th>\n",
       "      <th>Model</th>\n",
       "      <th>Train Accuracy</th>\n",
       "      <th>Test Accuracy</th>\n",
       "      <th>Precision</th>\n",
       "      <th>Recall</th>\n",
       "      <th>F1</th>\n",
       "    </tr>\n",
       "  </thead>\n",
       "  <tbody>\n",
       "    <tr>\n",
       "      <th>0</th>\n",
       "      <td>Decision Tree</td>\n",
       "      <td>90.82%</td>\n",
       "      <td>64.02%</td>\n",
       "      <td>0.640199</td>\n",
       "      <td>0.640199</td>\n",
       "      <td>0.640199</td>\n",
       "    </tr>\n",
       "    <tr>\n",
       "      <th>1</th>\n",
       "      <td>Random Forest</td>\n",
       "      <td>90.82%</td>\n",
       "      <td>65.26%</td>\n",
       "      <td>0.652605</td>\n",
       "      <td>0.652605</td>\n",
       "      <td>0.652605</td>\n",
       "    </tr>\n",
       "    <tr>\n",
       "      <th>2</th>\n",
       "      <td>CAT Boost</td>\n",
       "      <td>73.85%</td>\n",
       "      <td>70.72%</td>\n",
       "      <td>0.707196</td>\n",
       "      <td>0.707196</td>\n",
       "      <td>0.707196</td>\n",
       "    </tr>\n",
       "    <tr>\n",
       "      <th>3</th>\n",
       "      <td>Ada Boost</td>\n",
       "      <td>73.43%</td>\n",
       "      <td>70.22%</td>\n",
       "      <td>0.702233</td>\n",
       "      <td>0.702233</td>\n",
       "      <td>0.702233</td>\n",
       "    </tr>\n",
       "    <tr>\n",
       "      <th>4</th>\n",
       "      <td>XGBoost</td>\n",
       "      <td>75.67%</td>\n",
       "      <td>69.48%</td>\n",
       "      <td>0.694789</td>\n",
       "      <td>0.694789</td>\n",
       "      <td>0.694789</td>\n",
       "    </tr>\n",
       "  </tbody>\n",
       "</table>\n",
       "</div>"
      ],
      "text/plain": [
       "           Model Train Accuracy Test Accuracy  Precision    Recall        F1\n",
       "0  Decision Tree         90.82%        64.02%   0.640199  0.640199  0.640199\n",
       "1  Random Forest         90.82%        65.26%   0.652605  0.652605  0.652605\n",
       "2      CAT Boost         73.85%        70.72%   0.707196  0.707196  0.707196\n",
       "3      Ada Boost         73.43%        70.22%   0.702233  0.702233  0.702233\n",
       "4        XGBoost         75.67%        69.48%   0.694789  0.694789  0.694789"
      ]
     },
     "execution_count": 21,
     "metadata": {},
     "output_type": "execute_result"
    }
   ],
   "source": [
    "performance_data = []\n",
    "for model_name, model, position in models:\n",
    "    train_accuracy, test_accuracy, precision, recall, f1 = evaluate_model(model)\n",
    "    performance_data.append([\n",
    "        model_name, f\"{train_accuracy * 100:0.2f}%\", f\"{test_accuracy * 100:0.2f}%\", precision, recall, f1\n",
    "    ])\n",
    "    \n",
    "performance_chart = pd.DataFrame(performance_data, \n",
    "            columns=[\"Model\", \"Train Accuracy\", \"Test Accuracy\", \"Precision\", \"Recall\", \"F1\"])\n",
    "performance_chart"
   ]
  },
  {
   "cell_type": "code",
   "execution_count": null,
   "id": "3e4543be-9c36-4622-9a90-21bb726088e8",
   "metadata": {},
   "outputs": [],
   "source": []
  }
 ],
 "metadata": {
  "kernelspec": {
   "display_name": "Python 3 (ipykernel)",
   "language": "python",
   "name": "python3"
  },
  "language_info": {
   "codemirror_mode": {
    "name": "ipython",
    "version": 3
   },
   "file_extension": ".py",
   "mimetype": "text/x-python",
   "name": "python",
   "nbconvert_exporter": "python",
   "pygments_lexer": "ipython3",
   "version": "3.12.5"
  }
 },
 "nbformat": 4,
 "nbformat_minor": 5
}
